{
 "cells": [
  {
   "cell_type": "markdown",
   "metadata": {
    "application/vnd.databricks.v1+cell": {
     "cellMetadata": {
      "byteLimit": 2048000,
      "rowLimit": 10000
     },
     "inputWidgets": {},
     "nuid": "f72768ae-dc2f-4b74-b541-28a24ff110f9",
     "showTitle": false,
     "tableResultSettingsMap": {},
     "title": ""
    }
   },
   "source": [
    "##  Sobre a Fonte de Dados \"Cartões de Pagamento\"\n",
    "##  \n",
    "Informações sobre gastos realizados pelo governo por meio do Cartão de Pagamento do Governo Federal, segundo limites e regras específicas. Consulte dados detalhados e gerenciais sobre valores, quantidade de portadores, órgãos, nome, estabelecimento e muito mais.\n",
    "\n"
   ]
  },
  {
   "cell_type": "markdown",
   "metadata": {
    "application/vnd.databricks.v1+cell": {
     "cellMetadata": {
      "byteLimit": 2048000,
      "rowLimit": 10000
     },
     "inputWidgets": {},
     "nuid": "3bde6ae2-aa6d-4018-92c6-c9e3faab6801",
     "showTitle": false,
     "tableResultSettingsMap": {},
     "title": ""
    }
   },
   "source": [
    "## Origem dos Dados\n",
    "\n",
    "O Portal da Transparência integra e apresenta dados de diversos sistemas utilizados pelo Governo Federal para a sua gestão financeira e administrativa, objetivando prover transparência da gestão pública, além de instrumentalizar a sociedade para a realização do controle social.\n",
    "\n",
    "Os dados são recebidos com periodicidade diária, semanal e mensal, a depender do tema, e são de responsabilidade dos ministérios e outros órgãos do Poder Executivo Federal, por serem eles os executores dos programas de governo e os responsáveis pela gestão das ações governamentais.\n",
    "\n",
    "Os dados que iremos filtrar serão a partir da data da transação, do primeiro dia do ano atual até o último dia do ano atual, podendo ser atualizado constantemente."
   ]
  },
  {
   "cell_type": "markdown",
   "metadata": {
    "application/vnd.databricks.v1+cell": {
     "cellMetadata": {
      "byteLimit": 2048000,
      "rowLimit": 10000
     },
     "inputWidgets": {},
     "nuid": "ed00c623-cd37-45dd-bbad-e820260f698e",
     "showTitle": false,
     "tableResultSettingsMap": {},
     "title": ""
    }
   },
   "source": [
    "## Objetivo do Trabalho\n",
    "## \n",
    "Este projeto tem como objetivo principal construir um modelo de dados confiável e otimizado para análise das transações realizadas com cartões de pagamento do governo federal, utilizando dados disponibilizados pelo Portal da Transparência.\n",
    "\n",
    "A partir dos dados oficiais em formato CSV, armazenados em um repositório, coletamos, transformamos e organizamos os dados em um esquema estrela (star schema) no Databricks, composto por:\n",
    "\n",
    "Uma tabela fato (fato_transacoes): Contendo todas as transações com campos como valor, data, e chaves de relacionamento.\n",
    "\n",
    "Tabelas de dimensão (dim_tipo_cartao, dim_estabelecimento, dim_unidade_gestora, dim_portador): Fornecendo contexto sobre os tipos de cartão, estabelecimentos, unidades gestoras e portadores.\n",
    "\n",
    "### Principais Metas\n",
    "### \n",
    "✅ Extração e Carga Automatizada\n",
    "\n",
    "Desenvolver um processo ETL que busca dados diretamente da API, tratando paginação e garantindo a integridade dos registros.\n",
    "\n",
    "✅ Modelagem Dimensional (Data Warehouse)\n",
    "\n",
    "Implementar um modelo em esquema estrela, ideal para consultas analíticas e relatórios.\n",
    "\n",
    "Garantir a qualidade dos dados com verificações de:\n",
    "\n",
    "Chaves primárias únicas (sem duplicatas).\n",
    "\n",
    "Valores não nulos em campos obrigatórios.\n",
    "\n",
    "Consistência (valores monetários positivos, datas válidas).\n",
    "\n",
    "✅ Otimização para Performance\n",
    "\n",
    "Aplicare técnicas como Z-Ordering e particionamento por data para acelerar consultas.\n",
    "\n",
    "Atualizar estatísticas para melhorar o planejamento de execução do Spark.\n",
    "\n",
    "✅ Documentação e Rastreabilidade\n",
    "\n",
    "Criar um catálogo de dados descrevendo tabelas, campos e domínios.\n",
    "\n",
    "Registrar a linhagem dos dados (origem, transformações, destino)."
   ]
  },
  {
   "cell_type": "markdown",
   "metadata": {
    "application/vnd.databricks.v1+cell": {
     "cellMetadata": {
      "byteLimit": 2048000,
      "rowLimit": 10000
     },
     "inputWidgets": {},
     "nuid": "c1a930bb-8b31-461a-985c-f3805435dd52",
     "showTitle": false,
     "tableResultSettingsMap": {},
     "title": ""
    }
   },
   "source": [
    "## 1. Configuração Inicial"
   ]
  },
  {
   "cell_type": "code",
   "execution_count": 0,
   "metadata": {
    "application/vnd.databricks.v1+cell": {
     "cellMetadata": {
      "byteLimit": 2048000,
      "rowLimit": 10000
     },
     "inputWidgets": {},
     "nuid": "8aac537c-c1ba-40b9-bffd-a00782f91479",
     "showTitle": false,
     "tableResultSettingsMap": {},
     "title": ""
    }
   },
   "outputs": [
    {
     "output_type": "stream",
     "name": "stdout",
     "output_type": "stream",
     "text": [
      "Todos os arquivos foram encontrados e serão processados.\n"
     ]
    }
   ],
   "source": [
    "# Databricks notebook source\n",
    "# Configuração inicial do notebook\n",
    "dbutils.widgets.text(\"input_path\", \"dbfs:/FileStore/shared_uploads/juancarlos.s2013@gmail.com/\", \"Caminho dos arquivos CSV\")\n",
    "dbutils.widgets.text(\"database_name\", \"dw_cpgf\", \"Nome do banco de dados\")\n",
    "\n",
    "# Lista específica dos arquivos a serem processados\n",
    "arquivos_cpgf = [\n",
    "    \"202501_CPGF.csv\",\n",
    "    \"202502_CPGF.csv\",\n",
    "    \"202503_CPGF.csv\",\n",
    "    \"202504_CPGF.csv\"\n",
    "]\n",
    "\n",
    "\n",
    "# Configurações iniciais\n",
    "input_path = dbutils.widgets.get(\"input_path\")\n",
    "database_name = dbutils.widgets.get(\"database_name\")\n",
    "\n",
    "# Verifica se os arquivos existem\n",
    "missing_files = []\n",
    "for arquivo in arquivos_cpgf:\n",
    "    try:\n",
    "        dbutils.fs.ls(f\"{input_path}{arquivo}\")\n",
    "    except:\n",
    "        missing_files.append(arquivo)\n",
    "\n",
    "if missing_files:\n",
    "    print(\"Atenção: Os seguintes arquivos não foram encontrados:\")\n",
    "    for arquivo in missing_files:\n",
    "        print(f\" - {arquivo}\")\n",
    "else:\n",
    "    print(\"Todos os arquivos foram encontrados e serão processados.\")"
   ]
  },
  {
   "cell_type": "markdown",
   "metadata": {
    "application/vnd.databricks.v1+cell": {
     "cellMetadata": {
      "byteLimit": 2048000,
      "rowLimit": 10000
     },
     "inputWidgets": {},
     "nuid": "57983c3f-8bce-48de-9a3a-9371df84855d",
     "showTitle": false,
     "tableResultSettingsMap": {},
     "title": ""
    }
   },
   "source": [
    "## 2. Definir Schemas para as Tabelas"
   ]
  },
  {
   "cell_type": "code",
   "execution_count": 0,
   "metadata": {
    "application/vnd.databricks.v1+cell": {
     "cellMetadata": {
      "byteLimit": 2048000,
      "rowLimit": 10000
     },
     "inputWidgets": {},
     "nuid": "c1dd96aa-d151-4c99-a1b0-c48534b2f6ce",
     "showTitle": false,
     "tableResultSettingsMap": {},
     "title": ""
    }
   },
   "outputs": [],
   "source": [
    "from pyspark.sql.types import *\n",
    "from datetime import date \n",
    "\n",
    "\n",
    "# Schema para a camada Bronze (dados brutos)\n",
    "bronze_schema = StructType([\n",
    "    StructField(\"CODIGO_ORGAO_SUPERIOR\", StringType(), True),\n",
    "    StructField(\"NOME_ORGAO_SUPERIOR\", StringType(), True),\n",
    "    StructField(\"CODIGO_ORGAO\", StringType(), True),\n",
    "    StructField(\"NOME_ORGAO\", StringType(), True),\n",
    "    StructField(\"CODIGO_UNIDADE_GESTORA\", StringType(), True),\n",
    "    StructField(\"NOME_UNIDADE_GESTORA\", StringType(), True),\n",
    "    StructField(\"ANO_EXTRATO\", StringType(), True),\n",
    "    StructField(\"MES_EXTRATO\", StringType(), True),\n",
    "    StructField(\"CPF_PORTADOR\", StringType(), True),\n",
    "    StructField(\"NOME_PORTADOR\", StringType(), True),\n",
    "    StructField(\"CNPJ_OU_CPF_FAVORECIDO\", StringType(), True),\n",
    "    StructField(\"NOME_FAVORECIDO\", StringType(), True),\n",
    "    StructField(\"TRANSACAO\", StringType(), True),\n",
    "    StructField(\"DATA_TRANSACAO\", StringType(), True),\n",
    "    StructField(\"VALOR_TRANSACAO\", StringType(), True),\n",
    "    StructField(\"FILE_NAME\", StringType(), True),\n",
    "    StructField(\"INGESTION_TIME\", TimestampType(), True)\n",
    "])\n",
    "\n",
    "# Schema para a camada Silver (dados limpos e padronizados)\n",
    "silver_schema = StructType([\n",
    "    StructField(\"ID_TRANSACAO\", LongType(), False),\n",
    "    StructField(\"CODIGO_ORGAO_SUPERIOR\", StringType(), True),\n",
    "    StructField(\"NOME_ORGAO_SUPERIOR\", StringType(), True),\n",
    "    StructField(\"CODIGO_ORGAO\", StringType(), True),\n",
    "    StructField(\"NOME_ORGAO\", StringType(), True),\n",
    "    StructField(\"CODIGO_UNIDADE_GESTORA\", StringType(), True),\n",
    "    StructField(\"NOME_UNIDADE_GESTORA\", StringType(), True),\n",
    "    StructField(\"ANO_EXTRATO\", IntegerType(), True),\n",
    "    StructField(\"MES_EXTRATO\", IntegerType(), True),\n",
    "    StructField(\"CPF_PORTADOR\", StringType(), True),\n",
    "    StructField(\"NOME_PORTADOR\", StringType(), True),\n",
    "    StructField(\"CNPJ_OU_CPF_FAVORECIDO\", StringType(), True),\n",
    "    StructField(\"NOME_FAVORECIDO\", StringType(), True),\n",
    "    StructField(\"TRANSACAO\", StringType(), True),\n",
    "    StructField(\"DATA_TRANSACAO\", DateType(), True),\n",
    "    StructField(\"VALOR_TRANSACAO\", DecimalType(18, 2), True),\n",
    "    StructField(\"TIPO_TRANSACAO\", StringType(), True),\n",
    "    StructField(\"FILE_NAME\", StringType(), True),\n",
    "    StructField(\"INGESTION_TIME\", TimestampType(), True),\n",
    "    StructField(\"UPDATE_TIME\", TimestampType(), True)\n",
    "])\n"
   ]
  },
  {
   "cell_type": "markdown",
   "metadata": {
    "application/vnd.databricks.v1+cell": {
     "cellMetadata": {
      "byteLimit": 2048000,
      "rowLimit": 10000
     },
     "inputWidgets": {},
     "nuid": "27d64cfd-b0e2-40aa-bdc2-d54ff0524d27",
     "showTitle": false,
     "tableResultSettingsMap": {},
     "title": ""
    }
   },
   "source": [
    "## 3. Função para Processar os Dados"
   ]
  },
  {
   "cell_type": "code",
   "execution_count": 0,
   "metadata": {
    "application/vnd.databricks.v1+cell": {
     "cellMetadata": {
      "byteLimit": 2048000,
      "rowLimit": 10000
     },
     "inputWidgets": {},
     "nuid": "ed5c8ecf-4170-486c-8f91-1d3a774fac42",
     "showTitle": false,
     "tableResultSettingsMap": {},
     "title": ""
    }
   },
   "outputs": [],
   "source": [
    "from pyspark.sql.functions import *\n",
    "from pyspark.sql import DataFrame\n",
    "import re\n",
    "\n",
    "def clean_decimal(value: str) -> str:\n",
    "    \"\"\"Limpa valores decimais removendo pontos e substituindo vírgulas por pontos\"\"\"\n",
    "    if value is None:\n",
    "        return None\n",
    "    # Remove pontos (separadores de milhar) e substitui vírgula (decimal) por ponto\n",
    "    cleaned = value.replace(\".\", \"\").replace(\",\", \".\")\n",
    "    # Remove qualquer caractere não numérico exceto ponto e sinal negativo\n",
    "    cleaned = re.sub(r\"[^\\d.-]\", \"\", cleaned)\n",
    "    return cleaned\n",
    "\n",
    "def process_bronze_layer(file_path: str) -> DataFrame:\n",
    "    \"\"\"Carrega e processa os dados brutos para a camada bronze\"\"\"\n",
    "    # Carrega o arquivo CSV\n",
    "    df = spark.read \\\n",
    "        .option(\"header\", \"true\") \\\n",
    "        .option(\"delimiter\", \";\") \\\n",
    "        .option(\"encoding\", \"ISO-8859-1\") \\\n",
    "        .option(\"quote\", \"\\\"\") \\\n",
    "        .schema(bronze_schema) \\\n",
    "        .csv(file_path)\n",
    "    \n",
    "    # Adiciona metadados\n",
    "    file_name = file_path.split(\"/\")[-1]\n",
    "    df = df.withColumn(\"FILE_NAME\", lit(file_name)) \\\n",
    "           .withColumn(\"INGESTION_TIME\", current_timestamp())\n",
    "    \n",
    "    return df\n",
    "\n",
    "def process_silver_layer(bronze_df: DataFrame) -> DataFrame:\n",
    "    \"\"\"Processa os dados da camada bronze para a camada silver\"\"\"\n",
    "    # Limpeza e transformação de dados\n",
    "    silver_df = bronze_df.withColumn(\"ANO_EXTRATO\", col(\"ANO_EXTRATO\").cast(\"int\")) \\\n",
    "                        .withColumn(\"MES_EXTRATO\", col(\"MES_EXTRATO\").cast(\"int\")) \\\n",
    "                        .withColumn(\"DATA_TRANSACAO\", to_date(col(\"DATA_TRANSACAO\"), \"dd/MM/yyyy\")) \\\n",
    "                        .withColumn(\"VALOR_TRANSACAO\", \n",
    "                                   when(col(\"VALOR_TRANSACAO\").isNotNull(), \n",
    "                                        regexp_replace(col(\"VALOR_TRANSACAO\"), \"\\\\.\", \"\")) \\\n",
    "                                   .otherwise(None)) \\\n",
    "                        .withColumn(\"VALOR_TRANSACAO\", \n",
    "                                   when(col(\"VALOR_TRANSACAO\").isNotNull(), \n",
    "                                        regexp_replace(col(\"VALOR_TRANSACAO\"), \",\", \".\")) \\\n",
    "                                   .otherwise(None)) \\\n",
    "                        .withColumn(\"VALOR_TRANSACAO\", col(\"VALOR_TRANSACAO\").cast(\"decimal(18,2)\")) \\\n",
    "                        .withColumn(\"TIPO_TRANSACAO\", \n",
    "                                   when(col(\"TRANSACAO\").like(\"%COMPRA%\"), \"COMPRA\") \\\n",
    "                                   .when(col(\"TRANSACAO\").like(\"%SAQUE%\"), \"SAQUE\") \\\n",
    "                                   .otherwise(\"OUTROS\")) \\\n",
    "                        .withColumn(\"UPDATE_TIME\", current_timestamp()) \\\n",
    "                        .withColumn(\"ID_TRANSACAO\", monotonically_increasing_id())\n",
    "    \n",
    "    # Padronização de nomes\n",
    "    for col_name in [\"NOME_ORGAO_SUPERIOR\", \"NOME_ORGAO\", \"NOME_UNIDADE_GESTORA\", \n",
    "                    \"NOME_PORTADOR\", \"NOME_FAVORECIDO\"]:\n",
    "        silver_df = silver_df.withColumn(col_name, initcap(trim(col(col_name))))\n",
    "    \n",
    "    return silver_df\n"
   ]
  },
  {
   "cell_type": "markdown",
   "metadata": {
    "application/vnd.databricks.v1+cell": {
     "cellMetadata": {
      "byteLimit": 2048000,
      "rowLimit": 10000
     },
     "inputWidgets": {},
     "nuid": "099fb5b0-c4e9-4de4-9530-8dd36a988817",
     "showTitle": false,
     "tableResultSettingsMap": {},
     "title": ""
    }
   },
   "source": [
    "## 4. Funções para Carregar os Dados nas Tabelas"
   ]
  },
  {
   "cell_type": "code",
   "execution_count": 0,
   "metadata": {
    "application/vnd.databricks.v1+cell": {
     "cellMetadata": {
      "byteLimit": 2048000,
      "rowLimit": 10000
     },
     "inputWidgets": {},
     "nuid": "c265ee37-f8d2-498c-9d5a-b26b6b00e203",
     "showTitle": false,
     "tableResultSettingsMap": {},
     "title": ""
    }
   },
   "outputs": [],
   "source": [
    "def load_to_bronze(df: DataFrame, table_name: str):\n",
    "    \"\"\"Carrega dados na camada bronze\"\"\"\n",
    "    df.write.mode(\"append\") \\\n",
    "        .format(\"delta\") \\\n",
    "        .option(\"mergeSchema\", \"true\") \\\n",
    "        .saveAsTable(f\"{database_name}.bronze_{table_name}\")\n",
    "\n",
    "def load_to_silver(df: DataFrame, table_name: str):\n",
    "    \"\"\"Carrega dados na camada silver\"\"\"\n",
    "    df.write.mode(\"overwrite\") \\\n",
    "        .format(\"delta\") \\\n",
    "        .option(\"mergeSchema\", \"true\") \\\n",
    "        .saveAsTable(f\"{database_name}.silver_{table_name}\")"
   ]
  },
  {
   "cell_type": "markdown",
   "metadata": {
    "application/vnd.databricks.v1+cell": {
     "cellMetadata": {
      "byteLimit": 2048000,
      "rowLimit": 10000
     },
     "inputWidgets": {},
     "nuid": "b6802a0f-cf3e-4910-8f71-158630de08a6",
     "showTitle": false,
     "tableResultSettingsMap": {},
     "title": ""
    }
   },
   "source": [
    "## 5. Execução Principal"
   ]
  },
  {
   "cell_type": "code",
   "execution_count": 0,
   "metadata": {
    "application/vnd.databricks.v1+cell": {
     "cellMetadata": {
      "byteLimit": 2048000,
      "rowLimit": 10000
     },
     "inputWidgets": {},
     "nuid": "2d7f725d-5639-4865-b863-86ce5b421000",
     "showTitle": false,
     "tableResultSettingsMap": {},
     "title": ""
    }
   },
   "outputs": [
    {
     "output_type": "stream",
     "name": "stdout",
     "output_type": "stream",
     "text": [
      "Processando arquivo: dbfs:/FileStore/shared_uploads/juancarlos.s2013@gmail.com/202501_CPGF-1.csv\nArquivo dbfs:/FileStore/shared_uploads/juancarlos.s2013@gmail.com/202501_CPGF-1.csv processado com sucesso!\nProcessando arquivo: dbfs:/FileStore/shared_uploads/juancarlos.s2013@gmail.com/202501_CPGF-2.csv\nArquivo dbfs:/FileStore/shared_uploads/juancarlos.s2013@gmail.com/202501_CPGF-2.csv processado com sucesso!\nProcessando arquivo: dbfs:/FileStore/shared_uploads/juancarlos.s2013@gmail.com/202501_CPGF-3.csv\nArquivo dbfs:/FileStore/shared_uploads/juancarlos.s2013@gmail.com/202501_CPGF-3.csv processado com sucesso!\nProcessando arquivo: dbfs:/FileStore/shared_uploads/juancarlos.s2013@gmail.com/202501_CPGF.csv\nArquivo dbfs:/FileStore/shared_uploads/juancarlos.s2013@gmail.com/202501_CPGF.csv processado com sucesso!\nProcessando arquivo: dbfs:/FileStore/shared_uploads/juancarlos.s2013@gmail.com/202502_CPGF-1.csv\nArquivo dbfs:/FileStore/shared_uploads/juancarlos.s2013@gmail.com/202502_CPGF-1.csv processado com sucesso!\nProcessando arquivo: dbfs:/FileStore/shared_uploads/juancarlos.s2013@gmail.com/202502_CPGF.csv\nArquivo dbfs:/FileStore/shared_uploads/juancarlos.s2013@gmail.com/202502_CPGF.csv processado com sucesso!\nProcessando arquivo: dbfs:/FileStore/shared_uploads/juancarlos.s2013@gmail.com/202503_CPGF-1.csv\nArquivo dbfs:/FileStore/shared_uploads/juancarlos.s2013@gmail.com/202503_CPGF-1.csv processado com sucesso!\nProcessando arquivo: dbfs:/FileStore/shared_uploads/juancarlos.s2013@gmail.com/202503_CPGF.csv\nArquivo dbfs:/FileStore/shared_uploads/juancarlos.s2013@gmail.com/202503_CPGF.csv processado com sucesso!\nProcessando arquivo: dbfs:/FileStore/shared_uploads/juancarlos.s2013@gmail.com/202504_CPGF-1.csv\nArquivo dbfs:/FileStore/shared_uploads/juancarlos.s2013@gmail.com/202504_CPGF-1.csv processado com sucesso!\nProcessando arquivo: dbfs:/FileStore/shared_uploads/juancarlos.s2013@gmail.com/202504_CPGF.csv\nArquivo dbfs:/FileStore/shared_uploads/juancarlos.s2013@gmail.com/202504_CPGF.csv processado com sucesso!\n"
     ]
    }
   ],
   "source": [
    "spark.sql(f\"CREATE DATABASE IF NOT EXISTS {database_name}\")\n",
    "spark.catalog.setCurrentDatabase(database_name)\n",
    "\n",
    "for file_path in [f.path for f in dbutils.fs.ls(input_path) if f.name.endswith(\".csv\")]:\n",
    "    try:\n",
    "        print(f\"Processando arquivo: {file_path}\")\n",
    "        \n",
    "        bronze_df = process_bronze_layer(file_path)\n",
    "        \n",
    "        if not spark.catalog.tableExists(f\"bronze_transacoes\"):\n",
    "            bronze_df.write.mode(\"overwrite\") \\\n",
    "                .format(\"delta\") \\\n",
    "                .saveAsTable(f\"{database_name}.bronze_transacoes\")\n",
    "        else:\n",
    "            bronze_df.write.mode(\"append\") \\\n",
    "                .format(\"delta\") \\\n",
    "                .saveAsTable(f\"{database_name}.bronze_transacoes\")\n",
    "        \n",
    "        silver_df = process_silver_layer(bronze_df)\n",
    "        \n",
    "        if not spark.catalog.tableExists(f\"silver_transacoes\"):\n",
    "            silver_df.write.mode(\"overwrite\") \\\n",
    "                .format(\"delta\") \\\n",
    "                .saveAsTable(f\"{database_name}.silver_transacoes\")\n",
    "        else:\n",
    "            silver_df.write.mode(\"overwrite\") \\\n",
    "                .format(\"delta\") \\\n",
    "                .saveAsTable(f\"{database_name}.silver_transacoes\")\n",
    "        \n",
    "        print(f\"Arquivo {file_path} processado com sucesso!\")\n",
    "    except Exception as e:\n",
    "        print(f\"Erro ao processar o arquivo {file_path}: {str(e)}\")\n",
    "        raise e  \n"
   ]
  },
  {
   "cell_type": "markdown",
   "metadata": {
    "application/vnd.databricks.v1+cell": {
     "cellMetadata": {
      "byteLimit": 2048000,
      "rowLimit": 10000
     },
     "inputWidgets": {},
     "nuid": "841276db-a744-402c-91b7-18a293e5e0b9",
     "showTitle": false,
     "tableResultSettingsMap": {},
     "title": ""
    }
   },
   "source": [
    "## 6. Verificação dos Dados e Relacionamentos"
   ]
  },
  {
   "cell_type": "code",
   "execution_count": 0,
   "metadata": {
    "application/vnd.databricks.v1+cell": {
     "cellMetadata": {
      "byteLimit": 2048000,
      "rowLimit": 10000
     },
     "inputWidgets": {},
     "nuid": "b462ba20-5860-4238-a1d0-af7a935c86c2",
     "showTitle": false,
     "tableResultSettingsMap": {},
     "title": ""
    }
   },
   "outputs": [
    {
     "output_type": "stream",
     "name": "stdout",
     "output_type": "stream",
     "text": [
      "\nTabelas disponíveis:\n"
     ]
    },
    {
     "output_type": "display_data",
     "data": {
      "text/html": [
       "<style scoped>\n",
       "  .table-result-container {\n",
       "    max-height: 300px;\n",
       "    overflow: auto;\n",
       "  }\n",
       "  table, th, td {\n",
       "    border: 1px solid black;\n",
       "    border-collapse: collapse;\n",
       "  }\n",
       "  th, td {\n",
       "    padding: 5px;\n",
       "  }\n",
       "  th {\n",
       "    text-align: left;\n",
       "  }\n",
       "</style><div class='table-result-container'><table class='table-result'><thead style='background-color: white'><tr><th>database</th><th>tableName</th><th>isTemporary</th></tr></thead><tbody><tr><td>dw_cpgf</td><td>bronze_transacoes</td><td>false</td></tr><tr><td>dw_cpgf</td><td>silver_transacoes</td><td>false</td></tr><tr><td></td><td>date_series</td><td>true</td></tr></tbody></table></div>"
      ]
     },
     "metadata": {
      "application/vnd.databricks.v1+output": {
       "addedWidgets": {},
       "aggData": [],
       "aggError": "",
       "aggOverflow": false,
       "aggSchema": [],
       "aggSeriesLimitReached": false,
       "aggType": "",
       "arguments": {},
       "columnCustomDisplayInfos": {},
       "data": [
        [
         "dw_cpgf",
         "bronze_transacoes",
         false
        ],
        [
         "dw_cpgf",
         "silver_transacoes",
         false
        ],
        [
         "",
         "date_series",
         true
        ]
       ],
       "datasetInfos": [],
       "dbfsResultPath": null,
       "isJsonSchema": true,
       "metadata": {},
       "overflow": false,
       "plotOptions": {
        "customPlotOptions": {},
        "displayType": "table",
        "pivotAggregation": null,
        "pivotColumns": null,
        "xColumns": null,
        "yColumns": null
       },
       "removedWidgets": [],
       "schema": [
        {
         "metadata": "{}",
         "name": "database",
         "type": "\"string\""
        },
        {
         "metadata": "{}",
         "name": "tableName",
         "type": "\"string\""
        },
        {
         "metadata": "{}",
         "name": "isTemporary",
         "type": "\"boolean\""
        }
       ],
       "type": "table"
      }
     },
     "output_type": "display_data"
    },
    {
     "output_type": "stream",
     "name": "stdout",
     "output_type": "stream",
     "text": [
      "\nExemplo de dados Bronze:\n"
     ]
    },
    {
     "output_type": "display_data",
     "data": {
      "text/html": [
       "<style scoped>\n",
       "  .table-result-container {\n",
       "    max-height: 300px;\n",
       "    overflow: auto;\n",
       "  }\n",
       "  table, th, td {\n",
       "    border: 1px solid black;\n",
       "    border-collapse: collapse;\n",
       "  }\n",
       "  th, td {\n",
       "    padding: 5px;\n",
       "  }\n",
       "  th {\n",
       "    text-align: left;\n",
       "  }\n",
       "</style><div class='table-result-container'><table class='table-result'><thead style='background-color: white'><tr><th>CODIGO_ORGAO_SUPERIOR</th><th>NOME_ORGAO_SUPERIOR</th><th>CODIGO_ORGAO</th><th>NOME_ORGAO</th><th>CODIGO_UNIDADE_GESTORA</th><th>NOME_UNIDADE_GESTORA</th><th>ANO_EXTRATO</th><th>MES_EXTRATO</th><th>CPF_PORTADOR</th><th>NOME_PORTADOR</th><th>CNPJ_OU_CPF_FAVORECIDO</th><th>NOME_FAVORECIDO</th><th>TRANSACAO</th><th>DATA_TRANSACAO</th><th>VALOR_TRANSACAO</th><th>FILE_NAME</th><th>INGESTION_TIME</th></tr></thead><tbody><tr><td>63000</td><td>Advocacia-Geral da União</td><td>63000</td><td>Advocacia-Geral da União - Unidades com vínculo direto</td><td>110161</td><td>SUPERINTENDENCIA REG. DE ADMIN. DA 1ª REGIAO</td><td>2025</td><td>01</td><td>***.562.861-**</td><td>ANTONIO CARLOS MELO DOS SANTOS</td><td>77385797000117</td><td>CIBREL COMERCIAL BRASILEIRA DE REFRIGERACAO LIMITADA</td><td>COMPRA A/V - R$ - APRES</td><td>02/12/2024</td><td>183,90</td><td>202501_CPGF-1.csv</td><td>2025-04-09T23:29:28.563+0000</td></tr><tr><td>63000</td><td>Advocacia-Geral da União</td><td>63000</td><td>Advocacia-Geral da União - Unidades com vínculo direto</td><td>110161</td><td>SUPERINTENDENCIA REG. DE ADMIN. DA 1ª REGIAO</td><td>2025</td><td>01</td><td>***.725.752-**</td><td>VIVIANE CORREA LIMA</td><td>33311039000189</td><td>ELETRUS COMERCIO DE MATERIAIS DE CONSTRUCAO LTDA</td><td>COMPRA A/V - R$ - APRES</td><td>12/12/2024</td><td>50,34</td><td>202501_CPGF-1.csv</td><td>2025-04-09T23:29:28.563+0000</td></tr><tr><td>63000</td><td>Advocacia-Geral da União</td><td>63000</td><td>Advocacia-Geral da União - Unidades com vínculo direto</td><td>110161</td><td>SUPERINTENDENCIA REG. DE ADMIN. DA 1ª REGIAO</td><td>2025</td><td>01</td><td>***.384.652-**</td><td>CARLOS EPAMINONDAS GOMES DA SILVA</td><td>08632253000270</td><td>CROI COMPUTADORES LTDA</td><td>COMPRA A/V - R$ - APRES</td><td>27/11/2024</td><td>575,00</td><td>202501_CPGF-1.csv</td><td>2025-04-09T23:29:28.563+0000</td></tr><tr><td>63000</td><td>Advocacia-Geral da União</td><td>63000</td><td>Advocacia-Geral da União - Unidades com vínculo direto</td><td>110161</td><td>SUPERINTENDENCIA REG. DE ADMIN. DA 1ª REGIAO</td><td>2025</td><td>01</td><td>***.725.752-**</td><td>VIVIANE CORREA LIMA</td><td>84641331000362</td><td>DISMONZA DISTRIBUIDORA DE TINTAS E ABRASIVOS LTDA</td><td>COMPRA A/V - R$ - APRES</td><td>05/12/2024</td><td>27,00</td><td>202501_CPGF-1.csv</td><td>2025-04-09T23:29:28.563+0000</td></tr><tr><td>63000</td><td>Advocacia-Geral da União</td><td>63000</td><td>Advocacia-Geral da União - Unidades com vínculo direto</td><td>110161</td><td>SUPERINTENDENCIA REG. DE ADMIN. DA 1ª REGIAO</td><td>2025</td><td>01</td><td>***.945.361-**</td><td>CLAUDELI CONCEICAO DOS SANTOS</td><td>18727053000174</td><td>PAGAR.ME INSTITUICAO DE PAGAMENTO S.A</td><td>COMPRA A/V - R$ - APRES</td><td>26/11/2024</td><td>205,00</td><td>202501_CPGF-1.csv</td><td>2025-04-09T23:29:28.563+0000</td></tr></tbody></table></div>"
      ]
     },
     "metadata": {
      "application/vnd.databricks.v1+output": {
       "addedWidgets": {},
       "aggData": [],
       "aggError": "",
       "aggOverflow": false,
       "aggSchema": [],
       "aggSeriesLimitReached": false,
       "aggType": "",
       "arguments": {},
       "columnCustomDisplayInfos": {},
       "data": [
        [
         "63000",
         "Advocacia-Geral da União",
         "63000",
         "Advocacia-Geral da União - Unidades com vínculo direto",
         "110161",
         "SUPERINTENDENCIA REG. DE ADMIN. DA 1ª REGIAO",
         "2025",
         "01",
         "***.562.861-**",
         "ANTONIO CARLOS MELO DOS SANTOS",
         "77385797000117",
         "CIBREL COMERCIAL BRASILEIRA DE REFRIGERACAO LIMITADA",
         "COMPRA A/V - R$ - APRES",
         "02/12/2024",
         "183,90",
         "202501_CPGF-1.csv",
         "2025-04-09T23:29:28.563+0000"
        ],
        [
         "63000",
         "Advocacia-Geral da União",
         "63000",
         "Advocacia-Geral da União - Unidades com vínculo direto",
         "110161",
         "SUPERINTENDENCIA REG. DE ADMIN. DA 1ª REGIAO",
         "2025",
         "01",
         "***.725.752-**",
         "VIVIANE CORREA LIMA",
         "33311039000189",
         "ELETRUS COMERCIO DE MATERIAIS DE CONSTRUCAO LTDA",
         "COMPRA A/V - R$ - APRES",
         "12/12/2024",
         "50,34",
         "202501_CPGF-1.csv",
         "2025-04-09T23:29:28.563+0000"
        ],
        [
         "63000",
         "Advocacia-Geral da União",
         "63000",
         "Advocacia-Geral da União - Unidades com vínculo direto",
         "110161",
         "SUPERINTENDENCIA REG. DE ADMIN. DA 1ª REGIAO",
         "2025",
         "01",
         "***.384.652-**",
         "CARLOS EPAMINONDAS GOMES DA SILVA",
         "08632253000270",
         "CROI COMPUTADORES LTDA",
         "COMPRA A/V - R$ - APRES",
         "27/11/2024",
         "575,00",
         "202501_CPGF-1.csv",
         "2025-04-09T23:29:28.563+0000"
        ],
        [
         "63000",
         "Advocacia-Geral da União",
         "63000",
         "Advocacia-Geral da União - Unidades com vínculo direto",
         "110161",
         "SUPERINTENDENCIA REG. DE ADMIN. DA 1ª REGIAO",
         "2025",
         "01",
         "***.725.752-**",
         "VIVIANE CORREA LIMA",
         "84641331000362",
         "DISMONZA DISTRIBUIDORA DE TINTAS E ABRASIVOS LTDA",
         "COMPRA A/V - R$ - APRES",
         "05/12/2024",
         "27,00",
         "202501_CPGF-1.csv",
         "2025-04-09T23:29:28.563+0000"
        ],
        [
         "63000",
         "Advocacia-Geral da União",
         "63000",
         "Advocacia-Geral da União - Unidades com vínculo direto",
         "110161",
         "SUPERINTENDENCIA REG. DE ADMIN. DA 1ª REGIAO",
         "2025",
         "01",
         "***.945.361-**",
         "CLAUDELI CONCEICAO DOS SANTOS",
         "18727053000174",
         "PAGAR.ME INSTITUICAO DE PAGAMENTO S.A",
         "COMPRA A/V - R$ - APRES",
         "26/11/2024",
         "205,00",
         "202501_CPGF-1.csv",
         "2025-04-09T23:29:28.563+0000"
        ]
       ],
       "datasetInfos": [],
       "dbfsResultPath": null,
       "isJsonSchema": true,
       "metadata": {},
       "overflow": false,
       "plotOptions": {
        "customPlotOptions": {},
        "displayType": "table",
        "pivotAggregation": null,
        "pivotColumns": null,
        "xColumns": null,
        "yColumns": null
       },
       "removedWidgets": [],
       "schema": [
        {
         "metadata": "{}",
         "name": "CODIGO_ORGAO_SUPERIOR",
         "type": "\"string\""
        },
        {
         "metadata": "{}",
         "name": "NOME_ORGAO_SUPERIOR",
         "type": "\"string\""
        },
        {
         "metadata": "{}",
         "name": "CODIGO_ORGAO",
         "type": "\"string\""
        },
        {
         "metadata": "{}",
         "name": "NOME_ORGAO",
         "type": "\"string\""
        },
        {
         "metadata": "{}",
         "name": "CODIGO_UNIDADE_GESTORA",
         "type": "\"string\""
        },
        {
         "metadata": "{}",
         "name": "NOME_UNIDADE_GESTORA",
         "type": "\"string\""
        },
        {
         "metadata": "{}",
         "name": "ANO_EXTRATO",
         "type": "\"string\""
        },
        {
         "metadata": "{}",
         "name": "MES_EXTRATO",
         "type": "\"string\""
        },
        {
         "metadata": "{}",
         "name": "CPF_PORTADOR",
         "type": "\"string\""
        },
        {
         "metadata": "{}",
         "name": "NOME_PORTADOR",
         "type": "\"string\""
        },
        {
         "metadata": "{}",
         "name": "CNPJ_OU_CPF_FAVORECIDO",
         "type": "\"string\""
        },
        {
         "metadata": "{}",
         "name": "NOME_FAVORECIDO",
         "type": "\"string\""
        },
        {
         "metadata": "{}",
         "name": "TRANSACAO",
         "type": "\"string\""
        },
        {
         "metadata": "{}",
         "name": "DATA_TRANSACAO",
         "type": "\"string\""
        },
        {
         "metadata": "{}",
         "name": "VALOR_TRANSACAO",
         "type": "\"string\""
        },
        {
         "metadata": "{}",
         "name": "FILE_NAME",
         "type": "\"string\""
        },
        {
         "metadata": "{}",
         "name": "INGESTION_TIME",
         "type": "\"timestamp\""
        }
       ],
       "type": "table"
      }
     },
     "output_type": "display_data"
    },
    {
     "output_type": "stream",
     "name": "stdout",
     "output_type": "stream",
     "text": [
      "\nExemplo de dados Silver:\n"
     ]
    },
    {
     "output_type": "display_data",
     "data": {
      "text/html": [
       "<style scoped>\n",
       "  .table-result-container {\n",
       "    max-height: 300px;\n",
       "    overflow: auto;\n",
       "  }\n",
       "  table, th, td {\n",
       "    border: 1px solid black;\n",
       "    border-collapse: collapse;\n",
       "  }\n",
       "  th, td {\n",
       "    padding: 5px;\n",
       "  }\n",
       "  th {\n",
       "    text-align: left;\n",
       "  }\n",
       "</style><div class='table-result-container'><table class='table-result'><thead style='background-color: white'><tr><th>CODIGO_ORGAO_SUPERIOR</th><th>NOME_ORGAO_SUPERIOR</th><th>CODIGO_ORGAO</th><th>NOME_ORGAO</th><th>CODIGO_UNIDADE_GESTORA</th><th>NOME_UNIDADE_GESTORA</th><th>ANO_EXTRATO</th><th>MES_EXTRATO</th><th>CPF_PORTADOR</th><th>NOME_PORTADOR</th><th>CNPJ_OU_CPF_FAVORECIDO</th><th>NOME_FAVORECIDO</th><th>TRANSACAO</th><th>DATA_TRANSACAO</th><th>VALOR_TRANSACAO</th><th>FILE_NAME</th><th>INGESTION_TIME</th><th>TIPO_TRANSACAO</th><th>UPDATE_TIME</th><th>ID_TRANSACAO</th></tr></thead><tbody><tr><td>63000</td><td>Advocacia-geral Da União</td><td>63000</td><td>Advocacia-geral Da União - Unidades Com Vínculo Direto</td><td>110161</td><td>Superintendencia Reg. De Admin. Da 1ª Regiao</td><td>2025</td><td>4</td><td>***.482.101-**</td><td>Kenedy Willys Gomes De Oliveira</td><td>01847854000332</td><td>Eletro Transol Ind E Comercio Mat Eletricos Ltda</td><td>COMPRA A/V - R$ - APRES</td><td>2025-03-14</td><td>101.64</td><td>202504_CPGF.csv</td><td>2025-04-09T23:43:53.114+0000</td><td>COMPRA</td><td>2025-04-09T23:43:53.114+0000</td><td>0</td></tr><tr><td>63000</td><td>Advocacia-geral Da União</td><td>63000</td><td>Advocacia-geral Da União - Unidades Com Vínculo Direto</td><td>110161</td><td>Superintendencia Reg. De Admin. Da 1ª Regiao</td><td>2025</td><td>4</td><td>***.903.253-**</td><td>Francisco Pereira Tavares</td><td>61585865291962</td><td>Raia Drogasil S/a</td><td>COMPRA A/V - R$ - APRES</td><td>2025-03-27</td><td>59.80</td><td>202504_CPGF.csv</td><td>2025-04-09T23:43:53.114+0000</td><td>COMPRA</td><td>2025-04-09T23:43:53.114+0000</td><td>1</td></tr><tr><td>63000</td><td>Advocacia-geral Da União</td><td>63000</td><td>Advocacia-geral Da União - Unidades Com Vínculo Direto</td><td>110161</td><td>Superintendencia Reg. De Admin. Da 1ª Regiao</td><td>2025</td><td>4</td><td>***.195.852-**</td><td>Jose Uelisson Alves Leite</td><td>79379491007510</td><td>Havan S.a</td><td>COMPRA A/V - R$ - APRES</td><td>2025-03-18</td><td>232.95</td><td>202504_CPGF.csv</td><td>2025-04-09T23:43:53.114+0000</td><td>COMPRA</td><td>2025-04-09T23:43:53.114+0000</td><td>2</td></tr><tr><td>63000</td><td>Advocacia-geral Da União</td><td>63000</td><td>Advocacia-geral Da União - Unidades Com Vínculo Direto</td><td>110161</td><td>Superintendencia Reg. De Admin. Da 1ª Regiao</td><td>2025</td><td>4</td><td>***.482.101-**</td><td>Kenedy Willys Gomes De Oliveira</td><td>01008713000679</td><td>Fujioka Eletro Imagem S.a</td><td>COMPRA A/V - R$ - APRES</td><td>2025-03-21</td><td>235.90</td><td>202504_CPGF.csv</td><td>2025-04-09T23:43:53.114+0000</td><td>COMPRA</td><td>2025-04-09T23:43:53.114+0000</td><td>3</td></tr><tr><td>63000</td><td>Advocacia-geral Da União</td><td>63000</td><td>Advocacia-geral Da União - Unidades Com Vínculo Direto</td><td>110161</td><td>Superintendencia Reg. De Admin. Da 1ª Regiao</td><td>2025</td><td>4</td><td>***.195.852-**</td><td>Jose Uelisson Alves Leite</td><td>18133456000195</td><td>Moreno Festas Ltda</td><td>COMPRA A/V - R$ - APRES</td><td>2025-03-13</td><td>153.24</td><td>202504_CPGF.csv</td><td>2025-04-09T23:43:53.114+0000</td><td>COMPRA</td><td>2025-04-09T23:43:53.114+0000</td><td>4</td></tr></tbody></table></div>"
      ]
     },
     "metadata": {
      "application/vnd.databricks.v1+output": {
       "addedWidgets": {},
       "aggData": [],
       "aggError": "",
       "aggOverflow": false,
       "aggSchema": [],
       "aggSeriesLimitReached": false,
       "aggType": "",
       "arguments": {},
       "columnCustomDisplayInfos": {},
       "data": [
        [
         "63000",
         "Advocacia-geral Da União",
         "63000",
         "Advocacia-geral Da União - Unidades Com Vínculo Direto",
         "110161",
         "Superintendencia Reg. De Admin. Da 1ª Regiao",
         2025,
         4,
         "***.482.101-**",
         "Kenedy Willys Gomes De Oliveira",
         "01847854000332",
         "Eletro Transol Ind E Comercio Mat Eletricos Ltda",
         "COMPRA A/V - R$ - APRES",
         "2025-03-14",
         "101.64",
         "202504_CPGF.csv",
         "2025-04-09T23:43:53.114+0000",
         "COMPRA",
         "2025-04-09T23:43:53.114+0000",
         0
        ],
        [
         "63000",
         "Advocacia-geral Da União",
         "63000",
         "Advocacia-geral Da União - Unidades Com Vínculo Direto",
         "110161",
         "Superintendencia Reg. De Admin. Da 1ª Regiao",
         2025,
         4,
         "***.903.253-**",
         "Francisco Pereira Tavares",
         "61585865291962",
         "Raia Drogasil S/a",
         "COMPRA A/V - R$ - APRES",
         "2025-03-27",
         "59.80",
         "202504_CPGF.csv",
         "2025-04-09T23:43:53.114+0000",
         "COMPRA",
         "2025-04-09T23:43:53.114+0000",
         1
        ],
        [
         "63000",
         "Advocacia-geral Da União",
         "63000",
         "Advocacia-geral Da União - Unidades Com Vínculo Direto",
         "110161",
         "Superintendencia Reg. De Admin. Da 1ª Regiao",
         2025,
         4,
         "***.195.852-**",
         "Jose Uelisson Alves Leite",
         "79379491007510",
         "Havan S.a",
         "COMPRA A/V - R$ - APRES",
         "2025-03-18",
         "232.95",
         "202504_CPGF.csv",
         "2025-04-09T23:43:53.114+0000",
         "COMPRA",
         "2025-04-09T23:43:53.114+0000",
         2
        ],
        [
         "63000",
         "Advocacia-geral Da União",
         "63000",
         "Advocacia-geral Da União - Unidades Com Vínculo Direto",
         "110161",
         "Superintendencia Reg. De Admin. Da 1ª Regiao",
         2025,
         4,
         "***.482.101-**",
         "Kenedy Willys Gomes De Oliveira",
         "01008713000679",
         "Fujioka Eletro Imagem S.a",
         "COMPRA A/V - R$ - APRES",
         "2025-03-21",
         "235.90",
         "202504_CPGF.csv",
         "2025-04-09T23:43:53.114+0000",
         "COMPRA",
         "2025-04-09T23:43:53.114+0000",
         3
        ],
        [
         "63000",
         "Advocacia-geral Da União",
         "63000",
         "Advocacia-geral Da União - Unidades Com Vínculo Direto",
         "110161",
         "Superintendencia Reg. De Admin. Da 1ª Regiao",
         2025,
         4,
         "***.195.852-**",
         "Jose Uelisson Alves Leite",
         "18133456000195",
         "Moreno Festas Ltda",
         "COMPRA A/V - R$ - APRES",
         "2025-03-13",
         "153.24",
         "202504_CPGF.csv",
         "2025-04-09T23:43:53.114+0000",
         "COMPRA",
         "2025-04-09T23:43:53.114+0000",
         4
        ]
       ],
       "datasetInfos": [],
       "dbfsResultPath": null,
       "isJsonSchema": true,
       "metadata": {},
       "overflow": false,
       "plotOptions": {
        "customPlotOptions": {},
        "displayType": "table",
        "pivotAggregation": null,
        "pivotColumns": null,
        "xColumns": null,
        "yColumns": null
       },
       "removedWidgets": [],
       "schema": [
        {
         "metadata": "{}",
         "name": "CODIGO_ORGAO_SUPERIOR",
         "type": "\"string\""
        },
        {
         "metadata": "{}",
         "name": "NOME_ORGAO_SUPERIOR",
         "type": "\"string\""
        },
        {
         "metadata": "{}",
         "name": "CODIGO_ORGAO",
         "type": "\"string\""
        },
        {
         "metadata": "{}",
         "name": "NOME_ORGAO",
         "type": "\"string\""
        },
        {
         "metadata": "{}",
         "name": "CODIGO_UNIDADE_GESTORA",
         "type": "\"string\""
        },
        {
         "metadata": "{}",
         "name": "NOME_UNIDADE_GESTORA",
         "type": "\"string\""
        },
        {
         "metadata": "{}",
         "name": "ANO_EXTRATO",
         "type": "\"integer\""
        },
        {
         "metadata": "{}",
         "name": "MES_EXTRATO",
         "type": "\"integer\""
        },
        {
         "metadata": "{}",
         "name": "CPF_PORTADOR",
         "type": "\"string\""
        },
        {
         "metadata": "{}",
         "name": "NOME_PORTADOR",
         "type": "\"string\""
        },
        {
         "metadata": "{}",
         "name": "CNPJ_OU_CPF_FAVORECIDO",
         "type": "\"string\""
        },
        {
         "metadata": "{}",
         "name": "NOME_FAVORECIDO",
         "type": "\"string\""
        },
        {
         "metadata": "{}",
         "name": "TRANSACAO",
         "type": "\"string\""
        },
        {
         "metadata": "{}",
         "name": "DATA_TRANSACAO",
         "type": "\"date\""
        },
        {
         "metadata": "{}",
         "name": "VALOR_TRANSACAO",
         "type": "\"decimal(18,2)\""
        },
        {
         "metadata": "{}",
         "name": "FILE_NAME",
         "type": "\"string\""
        },
        {
         "metadata": "{}",
         "name": "INGESTION_TIME",
         "type": "\"timestamp\""
        },
        {
         "metadata": "{}",
         "name": "TIPO_TRANSACAO",
         "type": "\"string\""
        },
        {
         "metadata": "{}",
         "name": "UPDATE_TIME",
         "type": "\"timestamp\""
        },
        {
         "metadata": "{}",
         "name": "ID_TRANSACAO",
         "type": "\"long\""
        }
       ],
       "type": "table"
      }
     },
     "output_type": "display_data"
    },
    {
     "output_type": "display_data",
     "data": {
      "text/html": [
       "<style scoped>\n",
       "  .table-result-container {\n",
       "    max-height: 300px;\n",
       "    overflow: auto;\n",
       "  }\n",
       "  table, th, td {\n",
       "    border: 1px solid black;\n",
       "    border-collapse: collapse;\n",
       "  }\n",
       "  th, td {\n",
       "    padding: 5px;\n",
       "  }\n",
       "  th {\n",
       "    text-align: left;\n",
       "  }\n",
       "</style><div class='table-result-container'><table class='table-result'><thead style='background-color: white'><tr><th>database</th><th>tableName</th><th>isTemporary</th></tr></thead><tbody><tr><td>dw_cpgf</td><td>bronze_transacoes</td><td>false</td></tr><tr><td>dw_cpgf</td><td>silver_transacoes</td><td>false</td></tr><tr><td></td><td>date_series</td><td>true</td></tr></tbody></table></div>"
      ]
     },
     "metadata": {
      "application/vnd.databricks.v1+output": {
       "addedWidgets": {},
       "aggData": [],
       "aggError": "",
       "aggOverflow": false,
       "aggSchema": [],
       "aggSeriesLimitReached": false,
       "aggType": "",
       "arguments": {},
       "columnCustomDisplayInfos": {},
       "data": [
        [
         "dw_cpgf",
         "bronze_transacoes",
         false
        ],
        [
         "dw_cpgf",
         "silver_transacoes",
         false
        ],
        [
         "",
         "date_series",
         true
        ]
       ],
       "datasetInfos": [],
       "dbfsResultPath": null,
       "isJsonSchema": true,
       "metadata": {},
       "overflow": false,
       "plotOptions": {
        "customPlotOptions": {},
        "displayType": "table",
        "pivotAggregation": null,
        "pivotColumns": null,
        "xColumns": null,
        "yColumns": null
       },
       "removedWidgets": [],
       "schema": [
        {
         "metadata": "{}",
         "name": "database",
         "type": "\"string\""
        },
        {
         "metadata": "{}",
         "name": "tableName",
         "type": "\"string\""
        },
        {
         "metadata": "{}",
         "name": "isTemporary",
         "type": "\"boolean\""
        }
       ],
       "type": "table"
      }
     },
     "output_type": "display_data"
    },
    {
     "output_type": "display_data",
     "data": {
      "text/html": [
       "<style scoped>\n",
       "  .table-result-container {\n",
       "    max-height: 300px;\n",
       "    overflow: auto;\n",
       "  }\n",
       "  table, th, td {\n",
       "    border: 1px solid black;\n",
       "    border-collapse: collapse;\n",
       "  }\n",
       "  th, td {\n",
       "    padding: 5px;\n",
       "  }\n",
       "  th {\n",
       "    text-align: left;\n",
       "  }\n",
       "</style><div class='table-result-container'><table class='table-result'><thead style='background-color: white'><tr><th>CODIGO_ORGAO_SUPERIOR</th><th>NOME_ORGAO_SUPERIOR</th><th>CODIGO_ORGAO</th><th>NOME_ORGAO</th><th>CODIGO_UNIDADE_GESTORA</th><th>NOME_UNIDADE_GESTORA</th><th>ANO_EXTRATO</th><th>MES_EXTRATO</th><th>CPF_PORTADOR</th><th>NOME_PORTADOR</th><th>CNPJ_OU_CPF_FAVORECIDO</th><th>NOME_FAVORECIDO</th><th>TRANSACAO</th><th>DATA_TRANSACAO</th><th>VALOR_TRANSACAO</th><th>FILE_NAME</th><th>INGESTION_TIME</th><th>TIPO_TRANSACAO</th><th>UPDATE_TIME</th><th>ID_TRANSACAO</th></tr></thead><tbody><tr><td>63000</td><td>Advocacia-geral Da União</td><td>63000</td><td>Advocacia-geral Da União - Unidades Com Vínculo Direto</td><td>110161</td><td>Superintendencia Reg. De Admin. Da 1ª Regiao</td><td>2025</td><td>4</td><td>***.482.101-**</td><td>Kenedy Willys Gomes De Oliveira</td><td>01847854000332</td><td>Eletro Transol Ind E Comercio Mat Eletricos Ltda</td><td>COMPRA A/V - R$ - APRES</td><td>2025-03-14</td><td>101.64</td><td>202504_CPGF.csv</td><td>2025-04-09T23:43:53.114+0000</td><td>COMPRA</td><td>2025-04-09T23:43:53.114+0000</td><td>0</td></tr><tr><td>63000</td><td>Advocacia-geral Da União</td><td>63000</td><td>Advocacia-geral Da União - Unidades Com Vínculo Direto</td><td>110161</td><td>Superintendencia Reg. De Admin. Da 1ª Regiao</td><td>2025</td><td>4</td><td>***.903.253-**</td><td>Francisco Pereira Tavares</td><td>61585865291962</td><td>Raia Drogasil S/a</td><td>COMPRA A/V - R$ - APRES</td><td>2025-03-27</td><td>59.80</td><td>202504_CPGF.csv</td><td>2025-04-09T23:43:53.114+0000</td><td>COMPRA</td><td>2025-04-09T23:43:53.114+0000</td><td>1</td></tr><tr><td>63000</td><td>Advocacia-geral Da União</td><td>63000</td><td>Advocacia-geral Da União - Unidades Com Vínculo Direto</td><td>110161</td><td>Superintendencia Reg. De Admin. Da 1ª Regiao</td><td>2025</td><td>4</td><td>***.195.852-**</td><td>Jose Uelisson Alves Leite</td><td>79379491007510</td><td>Havan S.a</td><td>COMPRA A/V - R$ - APRES</td><td>2025-03-18</td><td>232.95</td><td>202504_CPGF.csv</td><td>2025-04-09T23:43:53.114+0000</td><td>COMPRA</td><td>2025-04-09T23:43:53.114+0000</td><td>2</td></tr><tr><td>63000</td><td>Advocacia-geral Da União</td><td>63000</td><td>Advocacia-geral Da União - Unidades Com Vínculo Direto</td><td>110161</td><td>Superintendencia Reg. De Admin. Da 1ª Regiao</td><td>2025</td><td>4</td><td>***.482.101-**</td><td>Kenedy Willys Gomes De Oliveira</td><td>01008713000679</td><td>Fujioka Eletro Imagem S.a</td><td>COMPRA A/V - R$ - APRES</td><td>2025-03-21</td><td>235.90</td><td>202504_CPGF.csv</td><td>2025-04-09T23:43:53.114+0000</td><td>COMPRA</td><td>2025-04-09T23:43:53.114+0000</td><td>3</td></tr><tr><td>63000</td><td>Advocacia-geral Da União</td><td>63000</td><td>Advocacia-geral Da União - Unidades Com Vínculo Direto</td><td>110161</td><td>Superintendencia Reg. De Admin. Da 1ª Regiao</td><td>2025</td><td>4</td><td>***.195.852-**</td><td>Jose Uelisson Alves Leite</td><td>18133456000195</td><td>Moreno Festas Ltda</td><td>COMPRA A/V - R$ - APRES</td><td>2025-03-13</td><td>153.24</td><td>202504_CPGF.csv</td><td>2025-04-09T23:43:53.114+0000</td><td>COMPRA</td><td>2025-04-09T23:43:53.114+0000</td><td>4</td></tr><tr><td>63000</td><td>Advocacia-geral Da União</td><td>63000</td><td>Advocacia-geral Da União - Unidades Com Vínculo Direto</td><td>110161</td><td>Superintendencia Reg. De Admin. Da 1ª Regiao</td><td>2025</td><td>4</td><td>***.903.253-**</td><td>Francisco Pereira Tavares</td><td>02337524000521</td><td>Info Store Computadores Da Amazonia Ltda</td><td>COMPRA A/V - R$ - APRES</td><td>2025-03-15</td><td>679.80</td><td>202504_CPGF.csv</td><td>2025-04-09T23:43:53.114+0000</td><td>COMPRA</td><td>2025-04-09T23:43:53.114+0000</td><td>5</td></tr><tr><td>63000</td><td>Advocacia-geral Da União</td><td>63000</td><td>Advocacia-geral Da União - Unidades Com Vínculo Direto</td><td>110161</td><td>Superintendencia Reg. De Admin. Da 1ª Regiao</td><td>2025</td><td>4</td><td>***.725.752-**</td><td>Viviane Correa Lima</td><td>27698586000166</td><td>Casa Dos Filtros Rondonia Ltda</td><td>COMPRA A/V - R$ - APRES</td><td>2025-02-26</td><td>300.00</td><td>202504_CPGF.csv</td><td>2025-04-09T23:43:53.114+0000</td><td>COMPRA</td><td>2025-04-09T23:43:53.114+0000</td><td>6</td></tr><tr><td>63000</td><td>Advocacia-geral Da União</td><td>63000</td><td>Advocacia-geral Da União - Unidades Com Vínculo Direto</td><td>110161</td><td>Superintendencia Reg. De Admin. Da 1ª Regiao</td><td>2025</td><td>4</td><td>***.945.361-**</td><td>Claudeli Conceicao Dos Santos</td><td>03379319000168</td><td>A L Ferreira Soares-s4 Comunicacao</td><td>COMPRA A/V - R$ - APRES</td><td>2025-03-18</td><td>90.25</td><td>202504_CPGF.csv</td><td>2025-04-09T23:43:53.114+0000</td><td>COMPRA</td><td>2025-04-09T23:43:53.114+0000</td><td>7</td></tr><tr><td>63000</td><td>Advocacia-geral Da União</td><td>63000</td><td>Advocacia-geral Da União - Unidades Com Vínculo Direto</td><td>110161</td><td>Superintendencia Reg. De Admin. Da 1ª Regiao</td><td>2025</td><td>4</td><td>***.945.361-**</td><td>Claudeli Conceicao Dos Santos</td><td>02607994000134</td><td>O L Vicari Comercio De Ferragens</td><td>COMPRA A/V - R$ - APRES</td><td>2025-03-27</td><td>35.00</td><td>202504_CPGF.csv</td><td>2025-04-09T23:43:53.114+0000</td><td>COMPRA</td><td>2025-04-09T23:43:53.114+0000</td><td>8</td></tr><tr><td>63000</td><td>Advocacia-geral Da União</td><td>63000</td><td>Advocacia-geral Da União - Unidades Com Vínculo Direto</td><td>110161</td><td>Superintendencia Reg. De Admin. Da 1ª Regiao</td><td>2025</td><td>4</td><td>***.945.361-**</td><td>Claudeli Conceicao Dos Santos</td><td>10526684000113</td><td>Cuiabana Comercio De Tintas E Ferramentas Ltda</td><td>COMPRA A/V - R$ - APRES</td><td>2025-02-26</td><td>1054.79</td><td>202504_CPGF.csv</td><td>2025-04-09T23:43:53.114+0000</td><td>COMPRA</td><td>2025-04-09T23:43:53.114+0000</td><td>9</td></tr></tbody></table></div>"
      ]
     },
     "metadata": {
      "application/vnd.databricks.v1+output": {
       "addedWidgets": {},
       "aggData": [],
       "aggError": "",
       "aggOverflow": false,
       "aggSchema": [],
       "aggSeriesLimitReached": false,
       "aggType": "",
       "arguments": {},
       "columnCustomDisplayInfos": {},
       "data": [
        [
         "63000",
         "Advocacia-geral Da União",
         "63000",
         "Advocacia-geral Da União - Unidades Com Vínculo Direto",
         "110161",
         "Superintendencia Reg. De Admin. Da 1ª Regiao",
         2025,
         4,
         "***.482.101-**",
         "Kenedy Willys Gomes De Oliveira",
         "01847854000332",
         "Eletro Transol Ind E Comercio Mat Eletricos Ltda",
         "COMPRA A/V - R$ - APRES",
         "2025-03-14",
         "101.64",
         "202504_CPGF.csv",
         "2025-04-09T23:43:53.114+0000",
         "COMPRA",
         "2025-04-09T23:43:53.114+0000",
         0
        ],
        [
         "63000",
         "Advocacia-geral Da União",
         "63000",
         "Advocacia-geral Da União - Unidades Com Vínculo Direto",
         "110161",
         "Superintendencia Reg. De Admin. Da 1ª Regiao",
         2025,
         4,
         "***.903.253-**",
         "Francisco Pereira Tavares",
         "61585865291962",
         "Raia Drogasil S/a",
         "COMPRA A/V - R$ - APRES",
         "2025-03-27",
         "59.80",
         "202504_CPGF.csv",
         "2025-04-09T23:43:53.114+0000",
         "COMPRA",
         "2025-04-09T23:43:53.114+0000",
         1
        ],
        [
         "63000",
         "Advocacia-geral Da União",
         "63000",
         "Advocacia-geral Da União - Unidades Com Vínculo Direto",
         "110161",
         "Superintendencia Reg. De Admin. Da 1ª Regiao",
         2025,
         4,
         "***.195.852-**",
         "Jose Uelisson Alves Leite",
         "79379491007510",
         "Havan S.a",
         "COMPRA A/V - R$ - APRES",
         "2025-03-18",
         "232.95",
         "202504_CPGF.csv",
         "2025-04-09T23:43:53.114+0000",
         "COMPRA",
         "2025-04-09T23:43:53.114+0000",
         2
        ],
        [
         "63000",
         "Advocacia-geral Da União",
         "63000",
         "Advocacia-geral Da União - Unidades Com Vínculo Direto",
         "110161",
         "Superintendencia Reg. De Admin. Da 1ª Regiao",
         2025,
         4,
         "***.482.101-**",
         "Kenedy Willys Gomes De Oliveira",
         "01008713000679",
         "Fujioka Eletro Imagem S.a",
         "COMPRA A/V - R$ - APRES",
         "2025-03-21",
         "235.90",
         "202504_CPGF.csv",
         "2025-04-09T23:43:53.114+0000",
         "COMPRA",
         "2025-04-09T23:43:53.114+0000",
         3
        ],
        [
         "63000",
         "Advocacia-geral Da União",
         "63000",
         "Advocacia-geral Da União - Unidades Com Vínculo Direto",
         "110161",
         "Superintendencia Reg. De Admin. Da 1ª Regiao",
         2025,
         4,
         "***.195.852-**",
         "Jose Uelisson Alves Leite",
         "18133456000195",
         "Moreno Festas Ltda",
         "COMPRA A/V - R$ - APRES",
         "2025-03-13",
         "153.24",
         "202504_CPGF.csv",
         "2025-04-09T23:43:53.114+0000",
         "COMPRA",
         "2025-04-09T23:43:53.114+0000",
         4
        ],
        [
         "63000",
         "Advocacia-geral Da União",
         "63000",
         "Advocacia-geral Da União - Unidades Com Vínculo Direto",
         "110161",
         "Superintendencia Reg. De Admin. Da 1ª Regiao",
         2025,
         4,
         "***.903.253-**",
         "Francisco Pereira Tavares",
         "02337524000521",
         "Info Store Computadores Da Amazonia Ltda",
         "COMPRA A/V - R$ - APRES",
         "2025-03-15",
         "679.80",
         "202504_CPGF.csv",
         "2025-04-09T23:43:53.114+0000",
         "COMPRA",
         "2025-04-09T23:43:53.114+0000",
         5
        ],
        [
         "63000",
         "Advocacia-geral Da União",
         "63000",
         "Advocacia-geral Da União - Unidades Com Vínculo Direto",
         "110161",
         "Superintendencia Reg. De Admin. Da 1ª Regiao",
         2025,
         4,
         "***.725.752-**",
         "Viviane Correa Lima",
         "27698586000166",
         "Casa Dos Filtros Rondonia Ltda",
         "COMPRA A/V - R$ - APRES",
         "2025-02-26",
         "300.00",
         "202504_CPGF.csv",
         "2025-04-09T23:43:53.114+0000",
         "COMPRA",
         "2025-04-09T23:43:53.114+0000",
         6
        ],
        [
         "63000",
         "Advocacia-geral Da União",
         "63000",
         "Advocacia-geral Da União - Unidades Com Vínculo Direto",
         "110161",
         "Superintendencia Reg. De Admin. Da 1ª Regiao",
         2025,
         4,
         "***.945.361-**",
         "Claudeli Conceicao Dos Santos",
         "03379319000168",
         "A L Ferreira Soares-s4 Comunicacao",
         "COMPRA A/V - R$ - APRES",
         "2025-03-18",
         "90.25",
         "202504_CPGF.csv",
         "2025-04-09T23:43:53.114+0000",
         "COMPRA",
         "2025-04-09T23:43:53.114+0000",
         7
        ],
        [
         "63000",
         "Advocacia-geral Da União",
         "63000",
         "Advocacia-geral Da União - Unidades Com Vínculo Direto",
         "110161",
         "Superintendencia Reg. De Admin. Da 1ª Regiao",
         2025,
         4,
         "***.945.361-**",
         "Claudeli Conceicao Dos Santos",
         "02607994000134",
         "O L Vicari Comercio De Ferragens",
         "COMPRA A/V - R$ - APRES",
         "2025-03-27",
         "35.00",
         "202504_CPGF.csv",
         "2025-04-09T23:43:53.114+0000",
         "COMPRA",
         "2025-04-09T23:43:53.114+0000",
         8
        ],
        [
         "63000",
         "Advocacia-geral Da União",
         "63000",
         "Advocacia-geral Da União - Unidades Com Vínculo Direto",
         "110161",
         "Superintendencia Reg. De Admin. Da 1ª Regiao",
         2025,
         4,
         "***.945.361-**",
         "Claudeli Conceicao Dos Santos",
         "10526684000113",
         "Cuiabana Comercio De Tintas E Ferramentas Ltda",
         "COMPRA A/V - R$ - APRES",
         "2025-02-26",
         "1054.79",
         "202504_CPGF.csv",
         "2025-04-09T23:43:53.114+0000",
         "COMPRA",
         "2025-04-09T23:43:53.114+0000",
         9
        ]
       ],
       "datasetInfos": [],
       "dbfsResultPath": null,
       "isJsonSchema": true,
       "metadata": {},
       "overflow": false,
       "plotOptions": {
        "customPlotOptions": {},
        "displayType": "table",
        "pivotAggregation": null,
        "pivotColumns": null,
        "xColumns": null,
        "yColumns": null
       },
       "removedWidgets": [],
       "schema": [
        {
         "metadata": "{}",
         "name": "CODIGO_ORGAO_SUPERIOR",
         "type": "\"string\""
        },
        {
         "metadata": "{}",
         "name": "NOME_ORGAO_SUPERIOR",
         "type": "\"string\""
        },
        {
         "metadata": "{}",
         "name": "CODIGO_ORGAO",
         "type": "\"string\""
        },
        {
         "metadata": "{}",
         "name": "NOME_ORGAO",
         "type": "\"string\""
        },
        {
         "metadata": "{}",
         "name": "CODIGO_UNIDADE_GESTORA",
         "type": "\"string\""
        },
        {
         "metadata": "{}",
         "name": "NOME_UNIDADE_GESTORA",
         "type": "\"string\""
        },
        {
         "metadata": "{}",
         "name": "ANO_EXTRATO",
         "type": "\"integer\""
        },
        {
         "metadata": "{}",
         "name": "MES_EXTRATO",
         "type": "\"integer\""
        },
        {
         "metadata": "{}",
         "name": "CPF_PORTADOR",
         "type": "\"string\""
        },
        {
         "metadata": "{}",
         "name": "NOME_PORTADOR",
         "type": "\"string\""
        },
        {
         "metadata": "{}",
         "name": "CNPJ_OU_CPF_FAVORECIDO",
         "type": "\"string\""
        },
        {
         "metadata": "{}",
         "name": "NOME_FAVORECIDO",
         "type": "\"string\""
        },
        {
         "metadata": "{}",
         "name": "TRANSACAO",
         "type": "\"string\""
        },
        {
         "metadata": "{}",
         "name": "DATA_TRANSACAO",
         "type": "\"date\""
        },
        {
         "metadata": "{}",
         "name": "VALOR_TRANSACAO",
         "type": "\"decimal(18,2)\""
        },
        {
         "metadata": "{}",
         "name": "FILE_NAME",
         "type": "\"string\""
        },
        {
         "metadata": "{}",
         "name": "INGESTION_TIME",
         "type": "\"timestamp\""
        },
        {
         "metadata": "{}",
         "name": "TIPO_TRANSACAO",
         "type": "\"string\""
        },
        {
         "metadata": "{}",
         "name": "UPDATE_TIME",
         "type": "\"timestamp\""
        },
        {
         "metadata": "{}",
         "name": "ID_TRANSACAO",
         "type": "\"long\""
        }
       ],
       "type": "table"
      }
     },
     "output_type": "display_data"
    }
   ],
   "source": [
    "try:\n",
    "    print(\"\\nTabelas disponíveis:\")\n",
    "    display(spark.sql(f\"SHOW TABLES IN {database_name}\"))\n",
    "    \n",
    "    print(\"\\nExemplo de dados Bronze:\")\n",
    "    display(spark.sql(f\"SELECT * FROM {database_name}.bronze_transacoes LIMIT 5\"))\n",
    "    \n",
    "    print(\"\\nExemplo de dados Silver:\")\n",
    "    display(spark.sql(f\"SELECT * FROM {database_name}.silver_transacoes LIMIT 5\"))\n",
    "    \n",
    "except Exception as e:\n",
    "    print(f\"Erro na verificação: {str(e)}\")\n",
    "    print(\"Verifique se as tabelas foram criadas corretamente:\")\n",
    "    print(f\"Bronze exists: {spark.catalog.tableExists('bronze_transacoes')}\")\n",
    "    print(f\"Silver exists: {spark.catalog.tableExists('silver_transacoes')}\")\n",
    " \n",
    "# Verifica as tabelas criadas\n",
    "try:\n",
    "    tables = spark.sql(f\"SHOW TABLES IN {database_name}\")\n",
    "    if tables.count() > 0:\n",
    "        display(tables)\n",
    "    else:\n",
    "        print(f\"Nenhuma tabela encontrada no banco de dados {database_name}.\")\n",
    "except Exception as e:\n",
    "    print(f\"Erro ao verificar tabelas: {str(e)}\")\n",
    "    print(\"Tentando criar o banco de dados novamente...\")\n",
    "    spark.sql(f\"CREATE DATABASE IF NOT EXISTS {database_name}\")\n",
    "    display(spark.sql(f\"SHOW TABLES IN {database_name}\"))\n",
    "\n",
    "# Verifica os dados na silver\n",
    "display(spark.sql(f\"SELECT * FROM {database_name}.silver_transacoes LIMIT 10\"))"
   ]
  },
  {
   "cell_type": "markdown",
   "metadata": {
    "application/vnd.databricks.v1+cell": {
     "cellMetadata": {
      "byteLimit": 2048000,
      "rowLimit": 10000
     },
     "inputWidgets": {},
     "nuid": "e7c7fe8c-ef84-4a83-94f0-62e002235bae",
     "showTitle": false,
     "tableResultSettingsMap": {},
     "title": ""
    }
   },
   "source": [
    "## 7. Transformação de Dados para o Modelo em Esquema Estrela"
   ]
  },
  {
   "cell_type": "code",
   "execution_count": 0,
   "metadata": {
    "application/vnd.databricks.v1+cell": {
     "cellMetadata": {
      "byteLimit": 2048000,
      "rowLimit": 10000
     },
     "inputWidgets": {},
     "nuid": "5c70b4e1-e664-42ba-b51a-641a6c9a438c",
     "showTitle": false,
     "tableResultSettingsMap": {},
     "title": ""
    }
   },
   "outputs": [],
   "source": [
    "# Criação da database DW\n",
    " \n",
    "# Cria o banco de dados DW se não existir\n",
    "spark.sql(f\"CREATE DATABASE IF NOT EXISTS {database_name}_dw\")\n",
    "spark.sql(f\"USE {database_name}_dw\")\n",
    "\n",
    " # Funções Auxiliares de Transformação\n",
    " \n",
    "\n",
    "\n",
    "def create_dim_tables():\n",
    " # 1. First clean up metastore entries if they exist\n",
    "    spark.sql(f\"USE {database_name}_dw\")\n",
    "    \n",
    "    tables = [\"dim_tipo_cartao\", \"dim_estabelecimento\", \n",
    "             \"dim_unidade_gestora\", \"dim_portador\", \n",
    "             \"dim_tempo\", \"fato_transacoes\"]\n",
    "    \n",
    "    for table in tables:\n",
    "        # Drop table from metastore first\n",
    "        spark.sql(f\"DROP TABLE IF EXISTS {database_name}_dw.{table}\")\n",
    "        \n",
    "        # Then delete files\n",
    "        dbutils.fs.rm(f\"dbfs:/user/hive/warehouse/{database_name}_dw.db/{table}\", recurse=True)\n",
    "    \n",
    "  \n",
    "    \"\"\"Cria as tabelas de dimensão a partir dos dados silver\"\"\"\n",
    "    \n",
    "    spark.sql(f\"CREATE DATABASE IF NOT EXISTS {database_name}_dw\")\n",
    "    \n",
    "    # DIM_TIPO_CARTAO\n",
    "    spark.sql(f\"\"\"\n",
    "    CREATE TABLE IF NOT EXISTS {database_name}_dw.DIM_TIPO_CARTAO (\n",
    "        ID_TIPO_CARTAO INT,\n",
    "        TIPO_TRANSACAO STRING,\n",
    "        DESCRICAO_TRANSACAO STRING,\n",
    "        DATA_INICIO_VIGENCIA DATE,\n",
    "        DATA_FIM_VIGENCIA DATE,\n",
    "        CURRENT_FLAG BOOLEAN\n",
    "    ) USING DELTA\n",
    "    \"\"\")\n",
    "    \n",
    "    \n",
    "    tipos_transacao = [\n",
    "        (1, \"COMPRA\", \"Transação de compra\", date(1900, 1, 1), date(9999, 12, 31), True),\n",
    "        (2, \"SAQUE\", \"Transação de saque\", date(1900, 1, 1), date(9999, 12, 31), True),\n",
    "        (3, \"OUTROS\", \"Outros tipos de transação\", date(1900, 1, 1), date(9999, 12, 31), True)\n",
    "    ]\n",
    "    \n",
    "    \n",
    "    schema = StructType([\n",
    "        StructField(\"ID_TIPO_CARTAO\", IntegerType()),\n",
    "        StructField(\"TIPO_TRANSACAO\", StringType()),\n",
    "        StructField(\"DESCRICAO_TRANSACAO\", StringType()),\n",
    "        StructField(\"DATA_INICIO_VIGENCIA\", DateType()),\n",
    "        StructField(\"DATA_FIM_VIGENCIA\", DateType()),\n",
    "        StructField(\"CURRENT_FLAG\", BooleanType())\n",
    "    ])\n",
    "    \n",
    "     \n",
    "    df_tipos = spark.createDataFrame(tipos_transacao, schema=schema)\n",
    "    \n",
    "     \n",
    "    df_tipos.write.mode(\"overwrite\") \\\n",
    "        .format(\"delta\") \\\n",
    "        .option(\"mergeSchema\", \"true\") \\\n",
    "        .saveAsTable(f\"{database_name}_dw.DIM_TIPO_CARTAO\")\n",
    "    \n",
    "    \n",
    "    # DIM_ESTABELECIMENTO\n",
    "    spark.sql(f\"\"\"\n",
    "    CREATE TABLE IF NOT EXISTS {database_name}_dw.DIM_ESTABELECIMENTO (\n",
    "        ID_ESTABELECIMENTO BIGINT,\n",
    "        CNPJ_OU_CPF_FAVORECIDO STRING,\n",
    "        NOME_FAVORECIDO STRING,\n",
    "        DATA_INICIO_VIGENCIA DATE,\n",
    "        DATA_FIM_VIGENCIA DATE,\n",
    "        CURRENT_FLAG BOOLEAN\n",
    "    ) USING DELTA\n",
    "    \"\"\")\n",
    "    \n",
    "    # DIM_UNIDADE_GESTORA\n",
    "    spark.sql(f\"\"\"\n",
    "    CREATE TABLE IF NOT EXISTS {database_name}_dw.DIM_UNIDADE_GESTORA (\n",
    "        ID_UNIDADE_GESTORA BIGINT,\n",
    "        CODIGO_UNIDADE_GESTORA STRING,\n",
    "        NOME_UNIDADE_GESTORA STRING,\n",
    "        CODIGO_ORGAO STRING,\n",
    "        NOME_ORGAO STRING,\n",
    "        CODIGO_ORGAO_SUPERIOR STRING,\n",
    "        NOME_ORGAO_SUPERIOR STRING,\n",
    "        DATA_INICIO_VIGENCIA DATE,\n",
    "        DATA_FIM_VIGENCIA DATE,\n",
    "        CURRENT_FLAG BOOLEAN\n",
    "    ) USING DELTA\n",
    "    \"\"\")\n",
    "    \n",
    "    # DIM_PORTADOR\n",
    "    spark.sql(f\"\"\"\n",
    "    CREATE TABLE IF NOT EXISTS {database_name}_dw.DIM_PORTADOR (\n",
    "        ID_PORTADOR BIGINT,\n",
    "        CPF_PORTADOR STRING,\n",
    "        NOME_PORTADOR STRING,\n",
    "        DATA_INICIO_VIGENCIA DATE,\n",
    "        DATA_FIM_VIGENCIA DATE,\n",
    "        CURRENT_FLAG BOOLEAN\n",
    "    ) USING DELTA\n",
    "    \"\"\")\n",
    "    \n",
    "    # DIM_TEMPO\n",
    "    spark.sql(f\"\"\"\n",
    "    CREATE TABLE IF NOT EXISTS {database_name}_dw.DIM_TEMPO (\n",
    "        ID_TEMPO INT,\n",
    "        DATA DATE,\n",
    "        DIA INT,\n",
    "        MES INT,\n",
    "        ANO INT,\n",
    "        TRIMESTRE INT,\n",
    "        SEMESTRE INT,\n",
    "        DIA_SEMANA INT,\n",
    "        NOME_DIA_SEMANA STRING,\n",
    "        NOME_MES STRING,\n",
    "        FERIADO BOOLEAN,\n",
    "        FIM_DE_SEMANA BOOLEAN\n",
    "    ) USING DELTA\n",
    "    LOCATION 'dbfs:/user/hive/warehouse/{database_name}_dw.db/dim_tempo'\n",
    "    \"\"\")\n"
   ]
  },
  {
   "cell_type": "markdown",
   "metadata": {
    "application/vnd.databricks.v1+cell": {
     "cellMetadata": {
      "byteLimit": 2048000,
      "rowLimit": 10000
     },
     "inputWidgets": {},
     "nuid": "40a8bc37-1536-46e4-9f74-aa86889dbfe3",
     "showTitle": false,
     "tableResultSettingsMap": {},
     "title": ""
    }
   },
   "source": [
    "## 8. Transformação das Dimensões"
   ]
  },
  {
   "cell_type": "markdown",
   "metadata": {
    "application/vnd.databricks.v1+cell": {
     "cellMetadata": {
      "byteLimit": 2048000,
      "rowLimit": 10000
     },
     "inputWidgets": {},
     "nuid": "fbe486e7-b63b-4934-bdae-f83381ef2d65",
     "showTitle": false,
     "tableResultSettingsMap": {},
     "title": ""
    }
   },
   "source": []
  },
  {
   "cell_type": "code",
   "execution_count": 0,
   "metadata": {
    "application/vnd.databricks.v1+cell": {
     "cellMetadata": {
      "byteLimit": 2048000,
      "rowLimit": 10000
     },
     "inputWidgets": {},
     "nuid": "4d47cc9c-2d83-4c24-8f0f-24d0420d96a3",
     "showTitle": false,
     "tableResultSettingsMap": {},
     "title": ""
    }
   },
   "outputs": [],
   "source": [
    "\n",
    "def transform_dimensions():\n",
    "    \"\"\"Transforma e carrega as dimensões\"\"\"\n",
    "    \n",
    "    # DIM_ESTABELECIMENTO\n",
    "    df_estabelecimento = spark.sql(f\"\"\"\n",
    "    SELECT \n",
    "        monotonically_increasing_id() AS ID_ESTABELECIMENTO,\n",
    "        CNPJ_OU_CPF_FAVORECIDO,\n",
    "        NOME_FAVORECIDO,\n",
    "        current_date() AS DATA_INICIO_VIGENCIA,\n",
    "        date('9999-12-31') AS DATA_FIM_VIGENCIA,\n",
    "        TRUE AS CURRENT_FLAG\n",
    "    FROM {database_name}.silver_transacoes\n",
    "    WHERE CNPJ_OU_CPF_FAVORECIDO IS NOT NULL\n",
    "    GROUP BY CNPJ_OU_CPF_FAVORECIDO, NOME_FAVORECIDO\n",
    "    \"\"\")\n",
    "    \n",
    "    df_estabelecimento.write.mode(\"overwrite\").format(\"delta\").saveAsTable(f\"{database_name}_dw.DIM_ESTABELECIMENTO\")\n",
    "    \n",
    "    # DIM_UNIDADE_GESTORA\n",
    "    df_unidade_gestora = spark.sql(f\"\"\"\n",
    "    SELECT \n",
    "        monotonically_increasing_id() AS ID_UNIDADE_GESTORA,\n",
    "        CODIGO_UNIDADE_GESTORA,\n",
    "        NOME_UNIDADE_GESTORA,\n",
    "        CODIGO_ORGAO,\n",
    "        NOME_ORGAO,\n",
    "        CODIGO_ORGAO_SUPERIOR,\n",
    "        NOME_ORGAO_SUPERIOR,\n",
    "        current_date() AS DATA_INICIO_VIGENCIA,\n",
    "        date('9999-12-31') AS DATA_FIM_VIGENCIA,\n",
    "        TRUE AS CURRENT_FLAG\n",
    "    FROM {database_name}.silver_transacoes\n",
    "    GROUP BY CODIGO_UNIDADE_GESTORA, NOME_UNIDADE_GESTORA, CODIGO_ORGAO, NOME_ORGAO, \n",
    "             CODIGO_ORGAO_SUPERIOR, NOME_ORGAO_SUPERIOR\n",
    "    \"\"\")\n",
    "    \n",
    "    df_unidade_gestora.write.mode(\"overwrite\").format(\"delta\").saveAsTable(f\"{database_name}_dw.DIM_UNIDADE_GESTORA\")\n",
    "    \n",
    "    # DIM_PORTADOR\n",
    "    df_portador = spark.sql(f\"\"\"\n",
    "    SELECT \n",
    "        monotonically_increasing_id() AS ID_PORTADOR,\n",
    "        CPF_PORTADOR,\n",
    "        NOME_PORTADOR,\n",
    "        current_date() AS DATA_INICIO_VIGENCIA,\n",
    "        date('9999-12-31') AS DATA_FIM_VIGENCIA,\n",
    "        TRUE AS CURRENT_FLAG\n",
    "    FROM {database_name}.silver_transacoes\n",
    "    WHERE CPF_PORTADOR IS NOT NULL\n",
    "    GROUP BY CPF_PORTADOR, NOME_PORTADOR\n",
    "    \"\"\")\n",
    "    \n",
    "    df_portador.write.mode(\"overwrite\").format(\"delta\").saveAsTable(f\"{database_name}_dw.DIM_PORTADOR\")\n",
    "    \n",
    "    # DIM_TEMPO (preenchemos com um range de datas)\n",
    "    # Primeiro encontramos o min e max de datas nas transações\n",
    "    date_range = spark.sql(f\"\"\"\n",
    "    SELECT \n",
    "        min(DATA_TRANSACAO) as min_date,\n",
    "        max(DATA_TRANSACAO) as max_date\n",
    "    FROM {database_name}.silver_transacoes\n",
    "    \"\"\").collect()[0]\n",
    "    \n",
    "    min_date = date_range[\"min_date\"]\n",
    "    max_date = date_range[\"max_date\"]\n",
    "    \n",
    "    # Cria um dataframe com todas as datas no intervalo\n",
    "    spark.sql(f\"\"\"\n",
    "    CREATE OR REPLACE TEMPORARY VIEW date_series AS\n",
    "    SELECT explode(sequence(to_date('{min_date}'), to_date('{max_date}'), interval 1 day)) as data\n",
    "    \"\"\")\n",
    "    \n",
    "    # Preenche a dimensão tempo\n",
    "    spark.sql(f\"\"\"\n",
    "    INSERT OVERWRITE TABLE {database_name}_dw.DIM_TEMPO\n",
    "    SELECT \n",
    "        cast(date_format(data, 'yyyyMMdd') as int) as ID_TEMPO,\n",
    "        data as DATA,\n",
    "        day(data) as DIA,\n",
    "        month(data) as MES,\n",
    "        year(data) as ANO,\n",
    "        quarter(data) as TRIMESTRE,\n",
    "        case when month(data) <= 6 then 1 else 2 end as SEMESTRE,\n",
    "        dayofweek(data) as DIA_SEMANA,\n",
    "        date_format(data, 'EEEE') as NOME_DIA_SEMANA,\n",
    "        date_format(data, 'MMMM') as NOME_MES,\n",
    "        FALSE as FERIADO,\n",
    "        case when dayofweek(data) in (1, 7) then TRUE else FALSE end as FIM_DE_SEMANA\n",
    "    FROM date_series\n",
    "    \"\"\")"
   ]
  },
  {
   "cell_type": "markdown",
   "metadata": {
    "application/vnd.databricks.v1+cell": {
     "cellMetadata": {
      "byteLimit": 2048000,
      "rowLimit": 10000
     },
     "inputWidgets": {},
     "nuid": "32633ae1-c98d-4144-8488-0293b832e805",
     "showTitle": false,
     "tableResultSettingsMap": {},
     "title": ""
    }
   },
   "source": [
    "## 9. Transformação e Carga da Tabela Fato"
   ]
  },
  {
   "cell_type": "code",
   "execution_count": 0,
   "metadata": {
    "application/vnd.databricks.v1+cell": {
     "cellMetadata": {
      "byteLimit": 2048000,
      "rowLimit": 10000
     },
     "inputWidgets": {},
     "nuid": "c41ea1b4-3180-4c5d-b2fd-c69a5fb2ef72",
     "showTitle": false,
     "tableResultSettingsMap": {},
     "title": ""
    }
   },
   "outputs": [],
   "source": [
    "def transform_fact_table():\n",
    "    \"\"\"Transforma e carrega a tabela fato\"\"\"\n",
    "    \n",
    "    spark.sql(f\"\"\"\n",
    "    CREATE TABLE IF NOT EXISTS {database_name}_dw.FATO_TRANSACOES (\n",
    "        ID_TRANSACAO BIGINT,\n",
    "        ID_TIPO_CARTAO INT,\n",
    "        ID_ESTABELECIMENTO BIGINT,\n",
    "        ID_UNIDADE_GESTORA BIGINT,\n",
    "        ID_PORTADOR BIGINT,\n",
    "        ID_TEMPO INT,\n",
    "        ANO_EXTRATO INT,\n",
    "        MES_EXTRATO INT,\n",
    "        VALOR_TRANSACAO DECIMAL(18,2),\n",
    "        DATA_TRANSACAO DATE,\n",
    "        DATA_CARGA TIMESTAMP\n",
    "    ) USING DELTA\n",
    "    \"\"\")\n",
    "    \n",
    "    # Carrega a tabela fato com joins para as dimensões\n",
    "    spark.sql(f\"\"\"\n",
    "    INSERT OVERWRITE TABLE {database_name}_dw.FATO_TRANSACOES\n",
    "    SELECT \n",
    "        t.ID_TRANSACAO,\n",
    "        tc.ID_TIPO_CARTAO,\n",
    "        e.ID_ESTABELECIMENTO,\n",
    "        ug.ID_UNIDADE_GESTORA,\n",
    "        p.ID_PORTADOR,\n",
    "        dt.ID_TEMPO,\n",
    "        t.ANO_EXTRATO,\n",
    "        t.MES_EXTRATO,\n",
    "        t.VALOR_TRANSACAO,\n",
    "        t.DATA_TRANSACAO,\n",
    "        current_timestamp() as DATA_CARGA\n",
    "    FROM {database_name}.silver_transacoes t\n",
    "    LEFT JOIN {database_name}_dw.DIM_TIPO_CARTAO tc ON t.TIPO_TRANSACAO = tc.TIPO_TRANSACAO\n",
    "    LEFT JOIN {database_name}_dw.DIM_ESTABELECIMENTO e ON t.CNPJ_OU_CPF_FAVORECIDO = e.CNPJ_OU_CPF_FAVORECIDO\n",
    "    LEFT JOIN {database_name}_dw.DIM_UNIDADE_GESTORA ug ON t.CODIGO_UNIDADE_GESTORA = ug.CODIGO_UNIDADE_GESTORA\n",
    "    LEFT JOIN {database_name}_dw.DIM_PORTADOR p ON t.CPF_PORTADOR = p.CPF_PORTADOR\n",
    "    LEFT JOIN {database_name}_dw.DIM_TEMPO dt ON t.DATA_TRANSACAO = dt.DATA\n",
    "    \"\"\")"
   ]
  },
  {
   "cell_type": "markdown",
   "metadata": {
    "application/vnd.databricks.v1+cell": {
     "cellMetadata": {
      "byteLimit": 2048000,
      "rowLimit": 10000
     },
     "inputWidgets": {},
     "nuid": "2430fb19-aa03-4337-89b8-10e6f4bdcfef",
     "showTitle": false,
     "tableResultSettingsMap": {},
     "title": ""
    }
   },
   "source": [
    "# 10. Controles de Qualidade"
   ]
  },
  {
   "cell_type": "code",
   "execution_count": 0,
   "metadata": {
    "application/vnd.databricks.v1+cell": {
     "cellMetadata": {
      "byteLimit": 2048000,
      "rowLimit": 10000
     },
     "inputWidgets": {},
     "nuid": "b5863407-4bd8-4bf0-a70d-4ab64daf8005",
     "showTitle": false,
     "tableResultSettingsMap": {},
     "title": ""
    }
   },
   "outputs": [],
   "source": [
    "def run_data_quality_checks():\n",
    "    \"\"\"Executa verificações de qualidade dos dados\"\"\"\n",
    "    \n",
    "    # Verifica se há valores nulos em campos importantes\n",
    "    checks = [\n",
    "        (\"FATO_TRANSACOES\", \"ID_TRANSACAO IS NULL\", \"Transações sem ID\"),\n",
    "        (\"FATO_TRANSACOES\", \"VALOR_TRANSACAO IS NULL\", \"Transações sem valor\"),\n",
    "        (\"FATO_TRANSACOES\", \"DATA_TRANSACAO IS NULL\", \"Transações sem data\"),\n",
    "        (\"DIM_ESTABELECIMENTO\", \"CNPJ_OU_CPF_FAVORECIDO IS NULL\", \"Estabelecimentos sem CNPJ/CPF\"),\n",
    "        (\"DIM_PORTADOR\", \"CPF_PORTADOR IS NULL\", \"Portadores sem CPF\")\n",
    "    ]\n",
    "    \n",
    "    for table, condition, description in checks:\n",
    "        count = spark.sql(f\"SELECT COUNT(*) FROM {database_name}_dw.{table} WHERE {condition}\").collect()[0][0]\n",
    "        if count > 0:\n",
    "            print(f\"ALERTA: {count} registros com {description} na tabela {table}\")\n",
    "        else:\n",
    "            print(f\"OK: Nenhum registro com {description} na tabela {table}\")\n",
    "    \n",
    "    # Verifica valores negativos em transações\n",
    "    negative_count = spark.sql(f\"\"\"\n",
    "    SELECT COUNT(*) \n",
    "    FROM {database_name}_dw.FATO_TRANSACOES \n",
    "    WHERE VALOR_TRANSACAO < 0\n",
    "    \"\"\").collect()[0][0]\n",
    "    \n",
    "    if negative_count > 0:\n",
    "        print(f\"ALERTA: {negative_count} transações com valores negativos\")\n",
    "    else:\n",
    "        print(\"OK: Nenhuma transação com valor negativo\")\n",
    "    \n",
    "    # Verifica integridade referencial\n",
    "    ref_checks = [\n",
    "        (\"FATO_TRANSACOES\", \"ID_TIPO_CARTAO\", \"DIM_TIPO_CARTAO\", \"ID_TIPO_CARTAO\"),\n",
    "        (\"FATO_TRANSACOES\", \"ID_ESTABELECIMENTO\", \"DIM_ESTABELECIMENTO\", \"ID_ESTABELECIMENTO\"),\n",
    "        (\"FATO_TRANSACOES\", \"ID_UNIDADE_GESTORA\", \"DIM_UNIDADE_GESTORA\", \"ID_UNIDADE_GESTORA\"),\n",
    "        (\"FATO_TRANSACOES\", \"ID_PORTADOR\", \"DIM_PORTADOR\", \"ID_PORTADOR\"),\n",
    "        (\"FATO_TRANSACOES\", \"ID_TEMPO\", \"DIM_TEMPO\", \"ID_TEMPO\")\n",
    "    ]\n",
    "    \n",
    "    for fact_table, fk, dim_table, pk in ref_checks:\n",
    "        count = spark.sql(f\"\"\"\n",
    "        SELECT COUNT(*) \n",
    "        FROM {database_name}_dw.{fact_table} f\n",
    "        LEFT JOIN {database_name}_dw.{dim_table} d ON f.{fk} = d.{pk}\n",
    "        WHERE d.{pk} IS NULL AND f.{fk} IS NOT NULL\n",
    "        \"\"\").collect()[0][0]\n",
    "        \n",
    "        if count > 0:\n",
    "            print(f\"ALERTA: {count} registros com problemas de integridade referencial em {fact_table}.{fk}\")\n",
    "        else:\n",
    "            print(f\"OK: Integridade referencial válida para {fact_table}.{fk}\")"
   ]
  },
  {
   "cell_type": "markdown",
   "metadata": {
    "application/vnd.databricks.v1+cell": {
     "cellMetadata": {
      "byteLimit": 2048000,
      "rowLimit": 10000
     },
     "inputWidgets": {},
     "nuid": "6f74d721-70b3-47b7-91b0-217f9789a9cb",
     "showTitle": false,
     "tableResultSettingsMap": {},
     "title": ""
    }
   },
   "source": [
    "# 11. Documentação Automatizada"
   ]
  },
  {
   "cell_type": "code",
   "execution_count": 0,
   "metadata": {
    "application/vnd.databricks.v1+cell": {
     "cellMetadata": {
      "byteLimit": 2048000,
      "rowLimit": 10000
     },
     "inputWidgets": {},
     "nuid": "37fcd77e-f731-40f2-9c60-de3cc1cdeefc",
     "showTitle": false,
     "tableResultSettingsMap": {},
     "title": ""
    }
   },
   "outputs": [],
   "source": [
    "def check_and_create_date_series():\n",
    "    \"\"\"Verifies if date_series exists, creates it if missing\"\"\"\n",
    "    try:\n",
    "        \n",
    "        if not spark.catalog.tableExists(f\"{database_name}_dw.date_series\"):\n",
    "            print(\"Creating date_series table...\")\n",
    "            \n",
    "           \n",
    "            date_df = spark.sql(\"\"\"\n",
    "                SELECT explode(sequence(\n",
    "                    date_sub(current_date(), 365*5),\n",
    "                    date_add(current_date(), 365*5),\n",
    "                    interval 1 day\n",
    "                )) as date\n",
    "            \"\"\")\n",
    "            \n",
    "            \n",
    "            date_df = date_df.withColumn(\"year\", year(\"date\")) \\\n",
    "                             .withColumn(\"month\", month(\"date\")) \\\n",
    "                             .withColumn(\"day\", dayofmonth(\"date\")) \\\n",
    "                             .withColumn(\"day_of_week\", dayofweek(\"date\")) \\\n",
    "                             .withColumn(\"day_of_year\", dayofyear(\"date\")) \\\n",
    "                             .withColumn(\"week_of_year\", weekofyear(\"date\")) \\\n",
    "                             .withColumn(\"quarter\", quarter(\"date\")) \\\n",
    "                             .withColumn(\"is_weekend\", (dayofweek(\"date\").isin(1, 7)))\n",
    "            \n",
    "            \n",
    "            date_df.write \\\n",
    "                .mode(\"overwrite\") \\\n",
    "                .format(\"delta\") \\\n",
    "                .saveAsTable(f\"{database_name}_dw.date_series\")\n",
    "            \n",
    "            print(\"✅ date_series table created successfully!\")\n",
    "        else:\n",
    "            print(\"date_series table already exists\")\n",
    "            \n",
    "    except Exception as e:\n",
    "        print(f\"Error creating date_series table: {str(e)}\")\n",
    "        raise\n",
    "\n",
    "def generate_documentation():\n",
    "    \"\"\"Generates data model documentation with robust error handling\"\"\"\n",
    "    try:\n",
    "        \n",
    "        spark.sql(f\"CREATE DATABASE IF NOT EXISTS {database_name}_dw\")\n",
    "        \n",
    "        \n",
    "        check_and_create_date_series()\n",
    "        \n",
    "        \n",
    "        doc = \"# Data Model Documentation\\n\\n\"\n",
    "        \n",
    "        \n",
    "        tables = spark.sql(f\"SHOW TABLES IN {database_name}_dw\").collect()\n",
    "        \n",
    "        if not tables:\n",
    "            doc += \"No tables found in the database.\\n\"\n",
    "            return doc\n",
    "        \n",
    "        for table in tables:\n",
    "            table_name = table.tableName\n",
    "            doc += f\"## Table: {table_name}\\n\\n\"\n",
    "            \n",
    "            try:\n",
    "                df = spark.table(f\"{database_name}_dw.{table_name}\")\n",
    "                \n",
    "               \n",
    "                doc += f\"**Row count:** {df.count():,}\\n\\n\"\n",
    "                \n",
    "                \n",
    "                doc += \"| Column Name | Data Type | Description |\\n\"\n",
    "                doc += \"|-------------|-----------|-------------|\\n\"\n",
    "                \n",
    "                for field in df.schema:\n",
    "                    desc = \"No description available\"\n",
    "                    if \"date\" in field.name.lower():\n",
    "                        desc = \"Date field\"\n",
    "                    elif \"id\" in field.name.lower():\n",
    "                        desc = \"Identifier field\"\n",
    "                    elif \"name\" in field.name.lower():\n",
    "                        desc = \"Name field\"\n",
    "                    elif \"value\" in field.name.lower():\n",
    "                        desc = \"Numeric value\"\n",
    "                        \n",
    "                    doc += f\"| {field.name} | {field.dataType} | {desc} |\\n\"\n",
    "                \n",
    "                doc += \"\\n\"\n",
    "                \n",
    "            except Exception as e:\n",
    "                doc += f\"⚠️ Error documenting table {table_name}: {str(e)}\\n\\n\"\n",
    "                continue\n",
    "        \n",
    "        \n",
    "        doc_path = f\"/FileStore/tables/{database_name}_documentation.md\"\n",
    "        dbutils.fs.put(doc_path, doc, overwrite=True)\n",
    "        print(f\"Documentation saved to {doc_path}\")\n",
    "        \n",
    "        return doc\n",
    "        \n",
    "    except Exception as e:\n",
    "        return f\"Error generating documentation: {str(e)}\"\n",
    "\n",
    "def generate_field_description(field_name):\n",
    "    \"\"\"Gera descrições automáticas baseadas em padrões de nomes de campos\"\"\"\n",
    "    field_lower = field_name.lower()\n",
    "    \n",
    "    description_rules = {\n",
    "        \"id_\": \"Chave primária/estrangeira\",\n",
    "        \"cod_\": \"Código identificador\",\n",
    "        \"data_\": f\"Data de {field_lower.replace('data_', '').replace('_', ' ')}\",\n",
    "        \"nome_\": f\"Nome do {field_lower.replace('nome_', '').replace('_', ' ')}\",\n",
    "        \"desc_\": f\"Descrição do {field_lower.replace('desc_', '').replace('_', ' ')}\",\n",
    "        \"valor_\": f\"Valor da {field_lower.replace('valor_', '').replace('_', ' ')}\",\n",
    "        \"flag_\": f\"Indicador booleano para {field_lower.replace('flag_', '').replace('_', ' ')}\",\n",
    "        \"qtd_\": f\"Quantidade de {field_lower.replace('qtd_', '').replace('_', ' ')}\",\n",
    "        \"total_\": f\"Total de {field_lower.replace('total_', '').replace('_', ' ')}\",\n",
    "    }\n",
    "    \n",
    "    for prefix, desc in description_rules.items():\n",
    "        if field_name.lower().startswith(prefix.lower()):\n",
    "            return desc\n",
    "    \n",
    "    # Padrões especiais para campos conhecidos\n",
    "    if field_name == \"CURRENT_FLAG\": return \"Indica se é o registro atual (SCD Type 2)\"\n",
    "    if field_name == \"VALID_FROM\": return \"Data de início da validade do registro\"\n",
    "    if field_name == \"VALID_TO\": return \"Data de fim da validade do registro\"\n",
    "    \n",
    "    return \"Campo de dados\"  # Descrição padrão\n"
   ]
  },
  {
   "cell_type": "markdown",
   "metadata": {
    "application/vnd.databricks.v1+cell": {
     "cellMetadata": {
      "byteLimit": 2048000,
      "rowLimit": 10000
     },
     "inputWidgets": {},
     "nuid": "b34e3c23-1771-48b8-a32f-00af74db1d3e",
     "showTitle": false,
     "tableResultSettingsMap": {},
     "title": ""
    }
   },
   "source": [
    "# 12. Otimizações Finais"
   ]
  },
  {
   "cell_type": "code",
   "execution_count": 0,
   "metadata": {
    "application/vnd.databricks.v1+cell": {
     "cellMetadata": {
      "byteLimit": 2048000,
      "rowLimit": 10000
     },
     "inputWidgets": {},
     "nuid": "7337bd00-ac60-459d-aa61-00136ee8c041",
     "showTitle": false,
     "tableResultSettingsMap": {},
     "title": ""
    }
   },
   "outputs": [],
   "source": [
    "def optimize_tables():\n",
    "    \"\"\"Otimiza as tabelas Delta para melhor performance\"\"\"\n",
    "    \n",
    "    tables = spark.sql(f\"SHOW TABLES IN {database_name}_dw\").collect()\n",
    "    \n",
    "    for table in tables:\n",
    "        table_name = table[\"tableName\"]\n",
    "        print(f\"Otimizando tabela {table_name}...\")\n",
    "        \n",
    "        # Otimiza a tabela\n",
    "        spark.sql(f\"OPTIMIZE {database_name}_dw.{table_name}\")\n",
    "        \n",
    "        # Executa ZORDER nas colunas mais usadas em filtros\n",
    "        if table_name == \"FATO_TRANSACOES\":\n",
    "            spark.sql(f\"OPTIMIZE {database_name}_dw.{table_name} ZORDER BY (ID_TEMPO, ID_TIPO_CARTAO)\")\n",
    "        elif table_name == \"DIM_TEMPO\":\n",
    "            spark.sql(f\"OPTIMIZE {database_name}_dw.{table_name} ZORDER BY (ID_TEMPO)\")\n",
    "        \n",
    "        # Coleta estatísticas para o otimizador de consultas\n",
    "        spark.sql(f\"ANALYZE TABLE {database_name}_dw.{table_name} COMPUTE STATISTICS FOR ALL COLUMNS\")"
   ]
  },
  {
   "cell_type": "markdown",
   "metadata": {
    "application/vnd.databricks.v1+cell": {
     "cellMetadata": {
      "byteLimit": 2048000,
      "rowLimit": 10000
     },
     "inputWidgets": {},
     "nuid": "579d9c72-11a4-4b41-9891-6af6879efb92",
     "showTitle": false,
     "tableResultSettingsMap": {},
     "title": ""
    }
   },
   "source": [
    "# 13. Execução Completa do Pipeline"
   ]
  },
  {
   "cell_type": "code",
   "execution_count": 0,
   "metadata": {
    "application/vnd.databricks.v1+cell": {
     "cellMetadata": {
      "byteLimit": 2048000,
      "rowLimit": 10000
     },
     "inputWidgets": {},
     "nuid": "f2178fda-9a0a-40bb-ac71-7d7b9f44fe57",
     "showTitle": false,
     "tableResultSettingsMap": {},
     "title": ""
    }
   },
   "outputs": [
    {
     "output_type": "stream",
     "name": "stdout",
     "output_type": "stream",
     "text": [
      "OK: Nenhum registro com Transações sem ID na tabela FATO_TRANSACOES\nOK: Nenhum registro com Transações sem valor na tabela FATO_TRANSACOES\nALERTA: 3218 registros com Transações sem data na tabela FATO_TRANSACOES\nOK: Nenhum registro com Estabelecimentos sem CNPJ/CPF na tabela DIM_ESTABELECIMENTO\nOK: Nenhum registro com Portadores sem CPF na tabela DIM_PORTADOR\nOK: Nenhuma transação com valor negativo\nOK: Integridade referencial válida para FATO_TRANSACOES.ID_TIPO_CARTAO\nOK: Integridade referencial válida para FATO_TRANSACOES.ID_ESTABELECIMENTO\nOK: Integridade referencial válida para FATO_TRANSACOES.ID_UNIDADE_GESTORA\nOK: Integridade referencial válida para FATO_TRANSACOES.ID_PORTADOR\nOK: Integridade referencial válida para FATO_TRANSACOES.ID_TEMPO\ndate_series table already exists\nWrote 5005 bytes.\nDocumentation saved to /FileStore/tables/dw_cpgf_documentation.md\nOtimizando tabela date_series...\nOtimizando tabela dim_estabelecimento...\nOtimizando tabela dim_portador...\nOtimizando tabela dim_tempo...\nOtimizando tabela dim_tipo_cartao...\nOtimizando tabela dim_unidade_gestora...\nOtimizando tabela fato_transacoes...\nOtimizando tabela date_series...\nPipeline executado com sucesso!\n"
     ]
    }
   ],
   "source": [
    "\n",
    "# Cria as tabelas de dimensão\n",
    "create_dim_tables()\n",
    "\n",
    "# Transforma as dimensões\n",
    "transform_dimensions()\n",
    "\n",
    "# Transforma a tabela fato\n",
    "transform_fact_table()\n",
    "\n",
    "# Executa controles de qualidade\n",
    "run_data_quality_checks()\n",
    "\n",
    "# Gera documentação\n",
    "docs = generate_documentation()\n",
    "\n",
    "# Otimiza as tabelas\n",
    "optimize_tables()\n",
    "\n",
    "print(\"Pipeline executado com sucesso!\")\n"
   ]
  },
  {
   "cell_type": "markdown",
   "metadata": {
    "application/vnd.databricks.v1+cell": {
     "cellMetadata": {
      "byteLimit": 2048000,
      "rowLimit": 10000
     },
     "inputWidgets": {},
     "nuid": "95a869f3-ab84-4468-bdf9-c5ad1d537731",
     "showTitle": false,
     "tableResultSettingsMap": {},
     "title": ""
    }
   },
   "source": [
    "# 14. Análise Exploratória"
   ]
  },
  {
   "cell_type": "code",
   "execution_count": 0,
   "metadata": {
    "application/vnd.databricks.v1+cell": {
     "cellMetadata": {
      "byteLimit": 2048000,
      "rowLimit": 10000
     },
     "inputWidgets": {},
     "nuid": "797560ca-3f1a-4317-861c-8d2012383f8b",
     "showTitle": false,
     "tableResultSettingsMap": {},
     "title": ""
    }
   },
   "outputs": [
    {
     "output_type": "stream",
     "name": "stdout",
     "output_type": "stream",
     "text": [
      "Total de transações: 12249\nValor total gasto: R$ 9,251,671.65\nValor médio por transação: R$ 755.30\nMenor valor: R$ 0.30\nMaior valor: R$ 82,954.31\nDesvio padrão: R$ 2,028.65\n"
     ]
    },
    {
     "output_type": "display_data",
     "data": {
      "text/html": [
       "<style scoped>\n",
       "  .table-result-container {\n",
       "    max-height: 300px;\n",
       "    overflow: auto;\n",
       "  }\n",
       "  table, th, td {\n",
       "    border: 1px solid black;\n",
       "    border-collapse: collapse;\n",
       "  }\n",
       "  th, td {\n",
       "    padding: 5px;\n",
       "  }\n",
       "  th {\n",
       "    text-align: left;\n",
       "  }\n",
       "</style><div class='table-result-container'><table class='table-result'><thead style='background-color: white'><tr><th>NOME_FAVORECIDO</th><th>quantidade_transacoes</th><th>valor_total</th><th>valor_medio</th></tr></thead><tbody><tr><td>Sigiloso</td><td>3218</td><td>4450711.18</td><td>1383.067489</td></tr><tr><td>Nao Se Aplica</td><td>1129</td><td>749767.31</td><td>664.098592</td></tr><tr><td>Sem Informacao</td><td>530</td><td>443194.07</td><td>836.215226</td></tr><tr><td>Kalunga Sa</td><td>97</td><td>40060.86</td><td>412.998557</td></tr><tr><td>Pagar.me Instituicao De Pagamento S.a</td><td>40</td><td>37541.79</td><td>938.544750</td></tr><tr><td>Leroy Merlin Companhia Brasileira De Bricolagem</td><td>52</td><td>32578.75</td><td>626.514423</td></tr><tr><td>Magalupay Instituicao De Pagamento S.a.</td><td>19</td><td>24275.89</td><td>1277.678421</td></tr><tr><td>Sendas Distribuidora S/a</td><td>67</td><td>23103.17</td><td>344.823433</td></tr><tr><td>Paygo Administradora De Meios De Pagamentos Ltda</td><td>19</td><td>19645.66</td><td>1033.982105</td></tr><tr><td>Loja Eletrica Ltda</td><td>13</td><td>16145.49</td><td>1241.960769</td></tr></tbody></table></div>"
      ]
     },
     "metadata": {
      "application/vnd.databricks.v1+output": {
       "addedWidgets": {},
       "aggData": [],
       "aggError": "",
       "aggOverflow": false,
       "aggSchema": [],
       "aggSeriesLimitReached": false,
       "aggType": "",
       "arguments": {},
       "columnCustomDisplayInfos": {},
       "data": [
        [
         "Sigiloso",
         3218,
         "4450711.18",
         "1383.067489"
        ],
        [
         "Nao Se Aplica",
         1129,
         "749767.31",
         "664.098592"
        ],
        [
         "Sem Informacao",
         530,
         "443194.07",
         "836.215226"
        ],
        [
         "Kalunga Sa",
         97,
         "40060.86",
         "412.998557"
        ],
        [
         "Pagar.me Instituicao De Pagamento S.a",
         40,
         "37541.79",
         "938.544750"
        ],
        [
         "Leroy Merlin Companhia Brasileira De Bricolagem",
         52,
         "32578.75",
         "626.514423"
        ],
        [
         "Magalupay Instituicao De Pagamento S.a.",
         19,
         "24275.89",
         "1277.678421"
        ],
        [
         "Sendas Distribuidora S/a",
         67,
         "23103.17",
         "344.823433"
        ],
        [
         "Paygo Administradora De Meios De Pagamentos Ltda",
         19,
         "19645.66",
         "1033.982105"
        ],
        [
         "Loja Eletrica Ltda",
         13,
         "16145.49",
         "1241.960769"
        ]
       ],
       "datasetInfos": [],
       "dbfsResultPath": null,
       "isJsonSchema": true,
       "metadata": {},
       "overflow": false,
       "plotOptions": {
        "customPlotOptions": {},
        "displayType": "table",
        "pivotAggregation": null,
        "pivotColumns": null,
        "xColumns": null,
        "yColumns": null
       },
       "removedWidgets": [],
       "schema": [
        {
         "metadata": "{}",
         "name": "NOME_FAVORECIDO",
         "type": "\"string\""
        },
        {
         "metadata": "{}",
         "name": "quantidade_transacoes",
         "type": "\"long\""
        },
        {
         "metadata": "{}",
         "name": "valor_total",
         "type": "\"decimal(28,2)\""
        },
        {
         "metadata": "{}",
         "name": "valor_medio",
         "type": "\"decimal(22,6)\""
        }
       ],
       "type": "table"
      }
     },
     "output_type": "display_data"
    },
    {
     "output_type": "display_data",
     "data": {
      "text/html": [
       "<style scoped>\n",
       "  .table-result-container {\n",
       "    max-height: 300px;\n",
       "    overflow: auto;\n",
       "  }\n",
       "  table, th, td {\n",
       "    border: 1px solid black;\n",
       "    border-collapse: collapse;\n",
       "  }\n",
       "  th, td {\n",
       "    padding: 5px;\n",
       "  }\n",
       "  th {\n",
       "    text-align: left;\n",
       "  }\n",
       "</style><div class='table-result-container'><table class='table-result'><thead style='background-color: white'><tr><th>TIPO_TRANSACAO</th><th>DESCRICAO_TRANSACAO</th><th>quantidade_transacoes</th><th>valor_total</th></tr></thead><tbody><tr><td>OUTROS</td><td>Outros tipos de transação</td><td>3224</td><td>4451257.60</td></tr><tr><td>COMPRA</td><td>Transação de compra</td><td>7896</td><td>4050646.74</td></tr><tr><td>SAQUE</td><td>Transação de saque</td><td>1129</td><td>749767.31</td></tr></tbody></table></div>"
      ]
     },
     "metadata": {
      "application/vnd.databricks.v1+output": {
       "addedWidgets": {},
       "aggData": [],
       "aggError": "",
       "aggOverflow": false,
       "aggSchema": [],
       "aggSeriesLimitReached": false,
       "aggType": "",
       "arguments": {},
       "columnCustomDisplayInfos": {},
       "data": [
        [
         "OUTROS",
         "Outros tipos de transação",
         3224,
         "4451257.60"
        ],
        [
         "COMPRA",
         "Transação de compra",
         7896,
         "4050646.74"
        ],
        [
         "SAQUE",
         "Transação de saque",
         1129,
         "749767.31"
        ]
       ],
       "datasetInfos": [],
       "dbfsResultPath": null,
       "isJsonSchema": true,
       "metadata": {},
       "overflow": false,
       "plotOptions": {
        "customPlotOptions": {},
        "displayType": "table",
        "pivotAggregation": null,
        "pivotColumns": null,
        "xColumns": null,
        "yColumns": null
       },
       "removedWidgets": [],
       "schema": [
        {
         "metadata": "{}",
         "name": "TIPO_TRANSACAO",
         "type": "\"string\""
        },
        {
         "metadata": "{}",
         "name": "DESCRICAO_TRANSACAO",
         "type": "\"string\""
        },
        {
         "metadata": "{}",
         "name": "quantidade_transacoes",
         "type": "\"long\""
        },
        {
         "metadata": "{}",
         "name": "valor_total",
         "type": "\"decimal(28,2)\""
        }
       ],
       "type": "table"
      }
     },
     "output_type": "display_data"
    },
    {
     "output_type": "display_data",
     "data": {
      "text/html": [
       "<style scoped>\n",
       "  .table-result-container {\n",
       "    max-height: 300px;\n",
       "    overflow: auto;\n",
       "  }\n",
       "  table, th, td {\n",
       "    border: 1px solid black;\n",
       "    border-collapse: collapse;\n",
       "  }\n",
       "  th, td {\n",
       "    padding: 5px;\n",
       "  }\n",
       "  th {\n",
       "    text-align: left;\n",
       "  }\n",
       "</style><div class='table-result-container'><table class='table-result'><thead style='background-color: white'><tr><th>ANO_EXTRATO</th><th>MES_EXTRATO</th><th>quantidade_transacoes</th><th>valor_total</th></tr></thead><tbody><tr><td>2025</td><td>4</td><td>12249</td><td>9251671.65</td></tr></tbody></table></div>"
      ]
     },
     "metadata": {
      "application/vnd.databricks.v1+output": {
       "addedWidgets": {},
       "aggData": [],
       "aggError": "",
       "aggOverflow": false,
       "aggSchema": [],
       "aggSeriesLimitReached": false,
       "aggType": "",
       "arguments": {},
       "columnCustomDisplayInfos": {},
       "data": [
        [
         2025,
         4,
         12249,
         "9251671.65"
        ]
       ],
       "datasetInfos": [],
       "dbfsResultPath": null,
       "isJsonSchema": true,
       "metadata": {},
       "overflow": false,
       "plotOptions": {
        "customPlotOptions": {},
        "displayType": "table",
        "pivotAggregation": null,
        "pivotColumns": null,
        "xColumns": null,
        "yColumns": null
       },
       "removedWidgets": [],
       "schema": [
        {
         "metadata": "{}",
         "name": "ANO_EXTRATO",
         "type": "\"integer\""
        },
        {
         "metadata": "{}",
         "name": "MES_EXTRATO",
         "type": "\"integer\""
        },
        {
         "metadata": "{}",
         "name": "quantidade_transacoes",
         "type": "\"long\""
        },
        {
         "metadata": "{}",
         "name": "valor_total",
         "type": "\"decimal(28,2)\""
        }
       ],
       "type": "table"
      }
     },
     "output_type": "display_data"
    },
    {
     "output_type": "display_data",
     "data": {
      "text/html": [
       "<style scoped>\n",
       "  .table-result-container {\n",
       "    max-height: 300px;\n",
       "    overflow: auto;\n",
       "  }\n",
       "  table, th, td {\n",
       "    border: 1px solid black;\n",
       "    border-collapse: collapse;\n",
       "  }\n",
       "  th, td {\n",
       "    padding: 5px;\n",
       "  }\n",
       "  th {\n",
       "    text-align: left;\n",
       "  }\n",
       "</style><div class='table-result-container'><table class='table-result'><thead style='background-color: white'><tr><th>NOME_PORTADOR</th><th>quantidade_transacoes</th><th>valor_total</th></tr></thead><tbody><tr><td>Henrique Araujo Hohne</td><td>38</td><td>116334.89</td></tr><tr><td>Lamin Goncalves Santos Da Silva</td><td>31</td><td>38940.00</td></tr><tr><td>Tassio Cristiano Rios De Souza</td><td>35</td><td>38554.50</td></tr><tr><td>Matheus Ramos Ribeiro</td><td>18</td><td>36869.36</td></tr><tr><td>Jessika Paloma Vieira Lima</td><td>35</td><td>33920.00</td></tr><tr><td>Enrico Streliaev Canali</td><td>9</td><td>31337.89</td></tr><tr><td>Andre Moura Pessoa</td><td>28</td><td>30250.00</td></tr><tr><td>Itamar Batista Vanzeler</td><td>30</td><td>30000.00</td></tr><tr><td>Luan Cesar De Oliveira</td><td>27</td><td>26681.32</td></tr><tr><td>Miriam Siqueira De Miranda</td><td>7</td><td>25932.00</td></tr></tbody></table></div>"
      ]
     },
     "metadata": {
      "application/vnd.databricks.v1+output": {
       "addedWidgets": {},
       "aggData": [],
       "aggError": "",
       "aggOverflow": false,
       "aggSchema": [],
       "aggSeriesLimitReached": false,
       "aggType": "",
       "arguments": {},
       "columnCustomDisplayInfos": {},
       "data": [
        [
         "Henrique Araujo Hohne",
         38,
         "116334.89"
        ],
        [
         "Lamin Goncalves Santos Da Silva",
         31,
         "38940.00"
        ],
        [
         "Tassio Cristiano Rios De Souza",
         35,
         "38554.50"
        ],
        [
         "Matheus Ramos Ribeiro",
         18,
         "36869.36"
        ],
        [
         "Jessika Paloma Vieira Lima",
         35,
         "33920.00"
        ],
        [
         "Enrico Streliaev Canali",
         9,
         "31337.89"
        ],
        [
         "Andre Moura Pessoa",
         28,
         "30250.00"
        ],
        [
         "Itamar Batista Vanzeler",
         30,
         "30000.00"
        ],
        [
         "Luan Cesar De Oliveira",
         27,
         "26681.32"
        ],
        [
         "Miriam Siqueira De Miranda",
         7,
         "25932.00"
        ]
       ],
       "datasetInfos": [],
       "dbfsResultPath": null,
       "isJsonSchema": true,
       "metadata": {},
       "overflow": false,
       "plotOptions": {
        "customPlotOptions": {},
        "displayType": "table",
        "pivotAggregation": null,
        "pivotColumns": null,
        "xColumns": null,
        "yColumns": null
       },
       "removedWidgets": [],
       "schema": [
        {
         "metadata": "{}",
         "name": "NOME_PORTADOR",
         "type": "\"string\""
        },
        {
         "metadata": "{}",
         "name": "quantidade_transacoes",
         "type": "\"long\""
        },
        {
         "metadata": "{}",
         "name": "valor_total",
         "type": "\"decimal(28,2)\""
        }
       ],
       "type": "table"
      }
     },
     "output_type": "display_data"
    }
   ],
   "source": [
    "# Estatísticas básicas\n",
    "stats = spark.sql(f\"\"\"\n",
    "SELECT \n",
    "    COUNT(*) as total_transacoes,\n",
    "    SUM(VALOR_TRANSACAO) as valor_total,\n",
    "    AVG(VALOR_TRANSACAO) as valor_medio,\n",
    "    MIN(VALOR_TRANSACAO) as valor_minimo,\n",
    "    MAX(VALOR_TRANSACAO) as valor_maximo,\n",
    "    STDDEV(VALOR_TRANSACAO) as desvio_padrao\n",
    "FROM {database_name}_dw.FATO_TRANSACOES\n",
    "\"\"\").collect()[0]\n",
    "\n",
    "print(f\"Total de transações: {stats['total_transacoes']}\")\n",
    "print(f\"Valor total gasto: R$ {stats['valor_total']:,.2f}\")\n",
    "print(f\"Valor médio por transação: R$ {stats['valor_medio']:,.2f}\")\n",
    "print(f\"Menor valor: R$ {stats['valor_minimo']:,.2f}\")\n",
    "print(f\"Maior valor: R$ {stats['valor_maximo']:,.2f}\")\n",
    "print(f\"Desvio padrão: R$ {stats['desvio_padrao']:,.2f}\")\n",
    "\n",
    "\n",
    "# Top 10 estabelecimentos que mais receberam pagamentos\n",
    "display(spark.sql(f\"\"\"\n",
    "SELECT \n",
    "    e.NOME_FAVORECIDO,\n",
    "    COUNT(*) as quantidade_transacoes,\n",
    "    SUM(f.VALOR_TRANSACAO) as valor_total,\n",
    "    AVG(f.VALOR_TRANSACAO) as valor_medio\n",
    "FROM {database_name}_dw.FATO_TRANSACOES f\n",
    "JOIN {database_name}_dw.DIM_ESTABELECIMENTO e ON f.ID_ESTABELECIMENTO = e.ID_ESTABELECIMENTO\n",
    "GROUP BY e.NOME_FAVORECIDO\n",
    "ORDER BY valor_total DESC\n",
    "LIMIT 10\n",
    "\"\"\"))\n",
    "\n",
    "# Transações por tipo\n",
    "display(spark.sql(f\"\"\"\n",
    "SELECT \n",
    "    t.TIPO_TRANSACAO,\n",
    "    t.DESCRICAO_TRANSACAO,\n",
    "    COUNT(*) as quantidade_transacoes,\n",
    "    SUM(f.VALOR_TRANSACAO) as valor_total\n",
    "FROM {database_name}_dw.FATO_TRANSACOES f\n",
    "JOIN {database_name}_dw.DIM_TIPO_CARTAO t ON f.ID_TIPO_CARTAO = t.ID_TIPO_CARTAO\n",
    "GROUP BY t.TIPO_TRANSACAO, t.DESCRICAO_TRANSACAO\n",
    "ORDER BY valor_total DESC\n",
    "\"\"\"))\n",
    "\n",
    "# Transações por mês/ano\n",
    "display(spark.sql(f\"\"\"\n",
    "SELECT \n",
    "    f.ANO_EXTRATO,\n",
    "    f.MES_EXTRATO,\n",
    "    COUNT(*) as quantidade_transacoes,\n",
    "    SUM(f.VALOR_TRANSACAO) as valor_total\n",
    "FROM {database_name}_dw.FATO_TRANSACOES f\n",
    "GROUP BY f.ANO_EXTRATO, f.MES_EXTRATO\n",
    "ORDER BY f.ANO_EXTRATO, f.MES_EXTRATO\n",
    "\"\"\"))\n",
    "\n",
    "# Top 10 portadores com mais transações\n",
    "display(spark.sql(f\"\"\"\n",
    "SELECT \n",
    "    p.NOME_PORTADOR,\n",
    "    COUNT(*) as quantidade_transacoes,\n",
    "    SUM(f.VALOR_TRANSACAO) as valor_total\n",
    "FROM {database_name}_dw.FATO_TRANSACOES f\n",
    "JOIN {database_name}_dw.DIM_PORTADOR p ON f.ID_PORTADOR = p.ID_PORTADOR\n",
    "GROUP BY p.NOME_PORTADOR\n",
    "ORDER BY valor_total DESC\n",
    "LIMIT 10\n",
    "\"\"\"))\n"
   ]
  },
  {
   "cell_type": "markdown",
   "metadata": {
    "application/vnd.databricks.v1+cell": {
     "cellMetadata": {
      "byteLimit": 2048000,
      "rowLimit": 10000
     },
     "inputWidgets": {},
     "nuid": "e96202ef-540a-403c-b61f-18701a226812",
     "showTitle": false,
     "tableResultSettingsMap": {},
     "title": ""
    }
   },
   "source": [
    "# 15. Linhagem de Dados Completa"
   ]
  },
  {
   "cell_type": "code",
   "execution_count": 0,
   "metadata": {
    "application/vnd.databricks.v1+cell": {
     "cellMetadata": {
      "byteLimit": 2048000,
      "rowLimit": 10000
     },
     "inputWidgets": {},
     "nuid": "e0050fe2-4313-4eb4-9d18-958631fbacee",
     "showTitle": false,
     "tableResultSettingsMap": {},
     "title": ""
    }
   },
   "outputs": [
    {
     "output_type": "stream",
     "name": "stdout",
     "output_type": "stream",
     "text": [
      "Linhagem de Dados:\n\nFontes:\n - Arquivos CSV do CPGF\n\nCamada Bronze:\n - bronze_transacoes (dados brutos)\n\nCamada Silver:\n - silver_transacoes (dados limpos e padronizados)\n\nCamada Gold (DW):\n - DIM_TIPO_CARTAO\n - DIM_ESTABELECIMENTO\n - DIM_UNIDADE_GESTORA\n - DIM_PORTADOR\n - DIM_TEMPO\n - FATO_TRANSACOES\n\nConsumidores:\n - Relatórios de BI\n - Dashboards\n - Análises\n"
     ]
    },
    {
     "output_type": "display_data",
     "data": {
      "text/html": [
       "<h2>Documentação do Modelo de Dados</h2><pre># Data Model Documentation\n",
       "\n",
       "## Table: date_series\n",
       "\n",
       "**Row count:** 3,651\n",
       "\n",
       "| Column Name | Data Type | Description |\n",
       "|-------------|-----------|-------------|\n",
       "| date | DateType() | Date field |\n",
       "| year | IntegerType() | No description available |\n",
       "| month | IntegerType() | No description available |\n",
       "| day | IntegerType() | No description available |\n",
       "| day_of_week | IntegerType() | No description available |\n",
       "| day_of_year | IntegerType() | No description available |\n",
       "| week_of_year | IntegerType() | No description available |\n",
       "| quarter | IntegerType() | No description available |\n",
       "| is_weekend | BooleanType() | No description available |\n",
       "\n",
       "## Table: dim_estabelecimento\n",
       "\n",
       "**Row count:** 5,131\n",
       "\n",
       "| Column Name | Data Type | Description |\n",
       "|-------------|-----------|-------------|\n",
       "| ID_ESTABELECIMENTO | LongType() | Identifier field |\n",
       "| CNPJ_OU_CPF_FAVORECIDO | StringType() | Identifier field |\n",
       "| NOME_FAVORECIDO | StringType() | Identifier field |\n",
       "| DATA_INICIO_VIGENCIA | DateType() | No description available |\n",
       "| DATA_FIM_VIGENCIA | DateType() | No description available |\n",
       "| CURRENT_FLAG | BooleanType() | No description available |\n",
       "\n",
       "## Table: dim_portador\n",
       "\n",
       "**Row count:** 1,897\n",
       "\n",
       "| Column Name | Data Type | Description |\n",
       "|-------------|-----------|-------------|\n",
       "| ID_PORTADOR | LongType() | Identifier field |\n",
       "| CPF_PORTADOR | StringType() | No description available |\n",
       "| NOME_PORTADOR | StringType() | No description available |\n",
       "| DATA_INICIO_VIGENCIA | DateType() | No description available |\n",
       "| DATA_FIM_VIGENCIA | DateType() | No description available |\n",
       "| CURRENT_FLAG | BooleanType() | No description available |\n",
       "\n",
       "## Table: dim_tempo\n",
       "\n",
       "**Row count:** 32\n",
       "\n",
       "| Column Name | Data Type | Description |\n",
       "|-------------|-----------|-------------|\n",
       "| ID_TEMPO | IntegerType() | Identifier field |\n",
       "| DATA | DateType() | No description available |\n",
       "| DIA | IntegerType() | No description available |\n",
       "| MES | IntegerType() | No description available |\n",
       "| ANO | IntegerType() | No description available |\n",
       "| TRIMESTRE | IntegerType() | No description available |\n",
       "| SEMESTRE | IntegerType() | No description available |\n",
       "| DIA_SEMANA | IntegerType() | No description available |\n",
       "| NOME_DIA_SEMANA | StringType() | No description available |\n",
       "| NOME_MES | StringType() | No description available |\n",
       "| FERIADO | BooleanType() | No description available |\n",
       "| FIM_DE_SEMANA | BooleanType() | No description available |\n",
       "\n",
       "## Table: dim_tipo_cartao\n",
       "\n",
       "**Row count:** 3\n",
       "\n",
       "| Column Name | Data Type | Description |\n",
       "|-------------|-----------|-------------|\n",
       "| ID_TIPO_CARTAO | IntegerType() | Identifier field |\n",
       "| TIPO_TRANSACAO | StringType() | No description available |\n",
       "| DESCRICAO_TRANSACAO | StringType() | No description available |\n",
       "| DATA_INICIO_VIGENCIA | DateType() | No description available |\n",
       "| DATA_FIM_VIGENCIA | DateType() | No description available |\n",
       "| CURRENT_FLAG | BooleanType() | No description available |\n",
       "\n",
       "## Table: dim_unidade_gestora\n",
       "\n",
       "**Row count:** 670\n",
       "\n",
       "| Column Name | Data Type | Description |\n",
       "|-------------|-----------|-------------|\n",
       "| ID_UNIDADE_GESTORA | LongType() | Identifier field |\n",
       "| CODIGO_UNIDADE_GESTORA | StringType() | Identifier field |\n",
       "| NOME_UNIDADE_GESTORA | StringType() | Identifier field |\n",
       "| CODIGO_ORGAO | StringType() | No description available |\n",
       "| NOME_ORGAO | StringType() | No description available |\n",
       "| CODIGO_ORGAO_SUPERIOR | StringType() | No description available |\n",
       "| NOME_ORGAO_SUPERIOR | StringType() | No description available |\n",
       "| DATA_INICIO_VIGENCIA | DateType() | No description available |\n",
       "| DATA_FIM_VIGENCIA | DateType() | No description available |\n",
       "| CURRENT_FLAG | BooleanType() | No description available |\n",
       "\n",
       "## Table: fato_transacoes\n",
       "\n",
       "**Row count:** 12,249\n",
       "\n",
       "| Column Name | Data Type | Description |\n",
       "|-------------|-----------|-------------|\n",
       "| ID_TRANSACAO | LongType() | Identifier field |\n",
       "| ID_TIPO_CARTAO | IntegerType() | Identifier field |\n",
       "| ID_ESTABELECIMENTO | LongType() | Identifier field |\n",
       "| ID_UNIDADE_GESTORA | LongType() | Identifier field |\n",
       "| ID_PORTADOR | LongType() | Identifier field |\n",
       "| ID_TEMPO | IntegerType() | Identifier field |\n",
       "| ANO_EXTRATO | IntegerType() | No description available |\n",
       "| MES_EXTRATO | IntegerType() | No description available |\n",
       "| VALOR_TRANSACAO | DecimalType(18,2) | No description available |\n",
       "| DATA_TRANSACAO | DateType() | No description available |\n",
       "| DATA_CARGA | TimestampType() | No description available |\n",
       "\n",
       "## Table: date_series\n",
       "\n",
       "**Row count:** 3,651\n",
       "\n",
       "| Column Name | Data Type | Description |\n",
       "|-------------|-----------|-------------|\n",
       "| date | DateType() | Date field |\n",
       "| year | IntegerType() | No description available |\n",
       "| month | IntegerType() | No description available |\n",
       "| day | IntegerType() | No description available |\n",
       "| day_of_week | IntegerType() | No description available |\n",
       "| day_of_year | IntegerType() | No description available |\n",
       "| week_of_year | IntegerType() | No description available |\n",
       "| quarter | IntegerType() | No description available |\n",
       "| is_weekend | BooleanType() | No description available |\n",
       "\n",
       "</pre>"
      ]
     },
     "metadata": {
      "application/vnd.databricks.v1+output": {
       "addedWidgets": {},
       "arguments": {},
       "data": "<h2>Documentação do Modelo de Dados</h2><pre># Data Model Documentation\n\n## Table: date_series\n\n**Row count:** 3,651\n\n| Column Name | Data Type | Description |\n|-------------|-----------|-------------|\n| date | DateType() | Date field |\n| year | IntegerType() | No description available |\n| month | IntegerType() | No description available |\n| day | IntegerType() | No description available |\n| day_of_week | IntegerType() | No description available |\n| day_of_year | IntegerType() | No description available |\n| week_of_year | IntegerType() | No description available |\n| quarter | IntegerType() | No description available |\n| is_weekend | BooleanType() | No description available |\n\n## Table: dim_estabelecimento\n\n**Row count:** 5,131\n\n| Column Name | Data Type | Description |\n|-------------|-----------|-------------|\n| ID_ESTABELECIMENTO | LongType() | Identifier field |\n| CNPJ_OU_CPF_FAVORECIDO | StringType() | Identifier field |\n| NOME_FAVORECIDO | StringType() | Identifier field |\n| DATA_INICIO_VIGENCIA | DateType() | No description available |\n| DATA_FIM_VIGENCIA | DateType() | No description available |\n| CURRENT_FLAG | BooleanType() | No description available |\n\n## Table: dim_portador\n\n**Row count:** 1,897\n\n| Column Name | Data Type | Description |\n|-------------|-----------|-------------|\n| ID_PORTADOR | LongType() | Identifier field |\n| CPF_PORTADOR | StringType() | No description available |\n| NOME_PORTADOR | StringType() | No description available |\n| DATA_INICIO_VIGENCIA | DateType() | No description available |\n| DATA_FIM_VIGENCIA | DateType() | No description available |\n| CURRENT_FLAG | BooleanType() | No description available |\n\n## Table: dim_tempo\n\n**Row count:** 32\n\n| Column Name | Data Type | Description |\n|-------------|-----------|-------------|\n| ID_TEMPO | IntegerType() | Identifier field |\n| DATA | DateType() | No description available |\n| DIA | IntegerType() | No description available |\n| MES | IntegerType() | No description available |\n| ANO | IntegerType() | No description available |\n| TRIMESTRE | IntegerType() | No description available |\n| SEMESTRE | IntegerType() | No description available |\n| DIA_SEMANA | IntegerType() | No description available |\n| NOME_DIA_SEMANA | StringType() | No description available |\n| NOME_MES | StringType() | No description available |\n| FERIADO | BooleanType() | No description available |\n| FIM_DE_SEMANA | BooleanType() | No description available |\n\n## Table: dim_tipo_cartao\n\n**Row count:** 3\n\n| Column Name | Data Type | Description |\n|-------------|-----------|-------------|\n| ID_TIPO_CARTAO | IntegerType() | Identifier field |\n| TIPO_TRANSACAO | StringType() | No description available |\n| DESCRICAO_TRANSACAO | StringType() | No description available |\n| DATA_INICIO_VIGENCIA | DateType() | No description available |\n| DATA_FIM_VIGENCIA | DateType() | No description available |\n| CURRENT_FLAG | BooleanType() | No description available |\n\n## Table: dim_unidade_gestora\n\n**Row count:** 670\n\n| Column Name | Data Type | Description |\n|-------------|-----------|-------------|\n| ID_UNIDADE_GESTORA | LongType() | Identifier field |\n| CODIGO_UNIDADE_GESTORA | StringType() | Identifier field |\n| NOME_UNIDADE_GESTORA | StringType() | Identifier field |\n| CODIGO_ORGAO | StringType() | No description available |\n| NOME_ORGAO | StringType() | No description available |\n| CODIGO_ORGAO_SUPERIOR | StringType() | No description available |\n| NOME_ORGAO_SUPERIOR | StringType() | No description available |\n| DATA_INICIO_VIGENCIA | DateType() | No description available |\n| DATA_FIM_VIGENCIA | DateType() | No description available |\n| CURRENT_FLAG | BooleanType() | No description available |\n\n## Table: fato_transacoes\n\n**Row count:** 12,249\n\n| Column Name | Data Type | Description |\n|-------------|-----------|-------------|\n| ID_TRANSACAO | LongType() | Identifier field |\n| ID_TIPO_CARTAO | IntegerType() | Identifier field |\n| ID_ESTABELECIMENTO | LongType() | Identifier field |\n| ID_UNIDADE_GESTORA | LongType() | Identifier field |\n| ID_PORTADOR | LongType() | Identifier field |\n| ID_TEMPO | IntegerType() | Identifier field |\n| ANO_EXTRATO | IntegerType() | No description available |\n| MES_EXTRATO | IntegerType() | No description available |\n| VALOR_TRANSACAO | DecimalType(18,2) | No description available |\n| DATA_TRANSACAO | DateType() | No description available |\n| DATA_CARGA | TimestampType() | No description available |\n\n## Table: date_series\n\n**Row count:** 3,651\n\n| Column Name | Data Type | Description |\n|-------------|-----------|-------------|\n| date | DateType() | Date field |\n| year | IntegerType() | No description available |\n| month | IntegerType() | No description available |\n| day | IntegerType() | No description available |\n| day_of_week | IntegerType() | No description available |\n| day_of_year | IntegerType() | No description available |\n| week_of_year | IntegerType() | No description available |\n| quarter | IntegerType() | No description available |\n| is_weekend | BooleanType() | No description available |\n\n</pre>",
       "datasetInfos": [],
       "metadata": {},
       "removedWidgets": [],
       "textData": null,
       "type": "htmlSandbox"
      }
     },
     "output_type": "display_data"
    }
   ],
   "source": [
    "def generate_data_lineage():\n",
    "    \"\"\"Gera um gráfico de linhagem de dados\"\"\"\n",
    "    \n",
    "    lineage = {\n",
    "        \"Fontes\": [\"Arquivos CSV do CPGF\"],\n",
    "        \"Camada Bronze\": [\"bronze_transacoes (dados brutos)\"],\n",
    "        \"Camada Silver\": [\"silver_transacoes (dados limpos e padronizados)\"],\n",
    "        \"Camada Gold (DW)\": [\n",
    "            \"DIM_TIPO_CARTAO\",\n",
    "            \"DIM_ESTABELECIMENTO\",\n",
    "            \"DIM_UNIDADE_GESTORA\",\n",
    "            \"DIM_PORTADOR\",\n",
    "            \"DIM_TEMPO\",\n",
    "            \"FATO_TRANSACOES\"\n",
    "        ],\n",
    "        \"Consumidores\": [\"Relatórios de BI\", \"Dashboards\", \"Análises\"]\n",
    "    }\n",
    "    \n",
    "    print(\"Linhagem de Dados:\")\n",
    "    for layer, items in lineage.items():\n",
    "        print(f\"\\n{layer}:\")\n",
    "        for item in items:\n",
    "            print(f\" - {item}\")\n",
    "\n",
    "# COMMAND ----------\n",
    "\n",
    "generate_data_lineage()\n",
    "\n",
    "# Exibe a documentação gerada\n",
    "displayHTML(\"<h2>Documentação do Modelo de Dados</h2><pre>\" + docs + \"</pre>\")"
   ]
  },
  {
   "cell_type": "markdown",
   "metadata": {
    "application/vnd.databricks.v1+cell": {
     "cellMetadata": {
      "byteLimit": 2048000,
      "rowLimit": 10000
     },
     "inputWidgets": {},
     "nuid": "ce64e3a7-0f0f-4f41-b250-18672a16b9ad",
     "showTitle": false,
     "tableResultSettingsMap": {},
     "title": ""
    }
   },
   "source": [
    "%md\n",
    "# Impacto e Próximos Passos\n",
    " \n",
    "Esse trabalho serve como base para análises estratégicas, permitindo:\n",
    "\n",
    " Identificar padrões de gastos por unidade gestora ou estabelecimento.\n",
    " Gerar dashboards de acompanhamento de despesas.\n",
    " Detectar anomalias (transações incomuns ou valores atípicos).\n",
    "\n",
    "Próximas etapas podem incluir:\n",
    "\n",
    "Agendamento automático da carga (ex: diária/semanal).\n",
    "\n",
    "Integração com ferramentas de BI (Power BI, Tableau).\n",
    "\n",
    "Análise mais aprofundada com machine learning (clustering de gastos).\n",
    "\n",
    "# Conclusão\n",
    "  \n",
    "Este projeto não apenas resolveu desafios técnicos de ingestão e modelagem de dados, mas também criou uma base confiável para tomada de decisão no setor público, aumentando a transparência e possibilitando auditorias mais eficientes."
   ]
  }
 ],
 "metadata": {
  "application/vnd.databricks.v1+notebook": {
   "computePreferences": null,
   "dashboards": [],
   "environmentMetadata": {
    "base_environment": "",
    "environment_version": "1"
   },
   "inputWidgetPreferences": null,
   "language": "python",
   "notebookMetadata": {
    "mostRecentlyExecutedCommandWithImplicitDF": {
     "commandId": 3369606814993337,
     "dataframes": [
      "_sqldf"
     ]
    },
    "pythonIndentUnit": 4
   },
   "notebookName": "MVP_PUC_ENG_DADOS",
   "widgets": {
    "database_name": {
     "currentValue": "dw_cpgf",
     "nuid": "43337af1-b78e-4c1d-ade1-de9f10c0558e",
     "typedWidgetInfo": {
      "autoCreated": false,
      "defaultValue": "dw_cpgf",
      "label": "Nome do banco de dados",
      "name": "database_name",
      "options": {
       "widgetDisplayType": "Text",
       "validationRegex": null
      },
      "parameterDataType": "String"
     },
     "widgetInfo": {
      "widgetType": "text",
      "defaultValue": "dw_cpgf",
      "label": "Nome do banco de dados",
      "name": "database_name",
      "options": {
       "widgetType": "text",
       "autoCreated": null,
       "validationRegex": null
      }
     }
    },
    "input_path": {
     "currentValue": "dbfs:/FileStore/shared_uploads/juancarlos.s2013@gmail.com/",
     "nuid": "72ac51f1-9b75-4ccb-8fbb-6fd1fa227dda",
     "typedWidgetInfo": {
      "autoCreated": false,
      "defaultValue": "dbfs:/FileStore/shared_uploads/juancarlos.s2013@gmail.com/",
      "label": "Caminho dos arquivos CSV",
      "name": "input_path",
      "options": {
       "widgetDisplayType": "Text",
       "validationRegex": null
      },
      "parameterDataType": "String"
     },
     "widgetInfo": {
      "widgetType": "text",
      "defaultValue": "dbfs:/FileStore/shared_uploads/juancarlos.s2013@gmail.com/",
      "label": "Caminho dos arquivos CSV",
      "name": "input_path",
      "options": {
       "widgetType": "text",
       "autoCreated": null,
       "validationRegex": null
      }
     }
    }
   }
  }
 },
 "nbformat": 4,
 "nbformat_minor": 0
}